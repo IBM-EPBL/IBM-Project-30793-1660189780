{
 "cells": [
  {
   "cell_type": "markdown",
   "id": "3023b60f",
   "metadata": {},
   "source": [
    "## 1.Download the Dataset"
   ]
  },
  {
   "cell_type": "code",
   "execution_count": 1,
   "id": "de5e6d1e",
   "metadata": {},
   "outputs": [],
   "source": [
    "import pandas as pd\n",
    "import numpy as np\n",
    "import matplotlib.pyplot as plt\n",
    "import seaborn as sns \n",
    "from matplotlib import rcParams"
   ]
  },
  {
   "cell_type": "code",
   "execution_count": 2,
   "id": "9494eccb",
   "metadata": {},
   "outputs": [
    {
     "data": {
      "text/plain": [
       "'C:\\\\Users\\\\Vinoth\\\\Downloads'"
      ]
     },
     "execution_count": 2,
     "metadata": {},
     "output_type": "execute_result"
    }
   ],
   "source": [
    "pwd"
   ]
  },
  {
   "cell_type": "markdown",
   "id": "f63196c7",
   "metadata": {},
   "source": [
    "# 2.Loading The Dataset"
   ]
  },
  {
   "cell_type": "code",
   "execution_count": 3,
   "id": "867dd09b",
   "metadata": {},
   "outputs": [
    {
     "data": {
      "text/html": [
       "<div>\n",
       "<style scoped>\n",
       "    .dataframe tbody tr th:only-of-type {\n",
       "        vertical-align: middle;\n",
       "    }\n",
       "\n",
       "    .dataframe tbody tr th {\n",
       "        vertical-align: top;\n",
       "    }\n",
       "\n",
       "    .dataframe thead th {\n",
       "        text-align: right;\n",
       "    }\n",
       "</style>\n",
       "<table border=\"1\" class=\"dataframe\">\n",
       "  <thead>\n",
       "    <tr style=\"text-align: right;\">\n",
       "      <th></th>\n",
       "      <th>CustomerID</th>\n",
       "      <th>Gender</th>\n",
       "      <th>Age</th>\n",
       "      <th>Annual Income (k$)</th>\n",
       "      <th>Spending Score (1-100)</th>\n",
       "    </tr>\n",
       "  </thead>\n",
       "  <tbody>\n",
       "    <tr>\n",
       "      <th>0</th>\n",
       "      <td>1</td>\n",
       "      <td>Male</td>\n",
       "      <td>19</td>\n",
       "      <td>15</td>\n",
       "      <td>39</td>\n",
       "    </tr>\n",
       "    <tr>\n",
       "      <th>1</th>\n",
       "      <td>2</td>\n",
       "      <td>Male</td>\n",
       "      <td>21</td>\n",
       "      <td>15</td>\n",
       "      <td>81</td>\n",
       "    </tr>\n",
       "    <tr>\n",
       "      <th>2</th>\n",
       "      <td>3</td>\n",
       "      <td>Female</td>\n",
       "      <td>20</td>\n",
       "      <td>16</td>\n",
       "      <td>6</td>\n",
       "    </tr>\n",
       "    <tr>\n",
       "      <th>3</th>\n",
       "      <td>4</td>\n",
       "      <td>Female</td>\n",
       "      <td>23</td>\n",
       "      <td>16</td>\n",
       "      <td>77</td>\n",
       "    </tr>\n",
       "    <tr>\n",
       "      <th>4</th>\n",
       "      <td>5</td>\n",
       "      <td>Female</td>\n",
       "      <td>31</td>\n",
       "      <td>17</td>\n",
       "      <td>40</td>\n",
       "    </tr>\n",
       "    <tr>\n",
       "      <th>...</th>\n",
       "      <td>...</td>\n",
       "      <td>...</td>\n",
       "      <td>...</td>\n",
       "      <td>...</td>\n",
       "      <td>...</td>\n",
       "    </tr>\n",
       "    <tr>\n",
       "      <th>195</th>\n",
       "      <td>196</td>\n",
       "      <td>Female</td>\n",
       "      <td>35</td>\n",
       "      <td>120</td>\n",
       "      <td>79</td>\n",
       "    </tr>\n",
       "    <tr>\n",
       "      <th>196</th>\n",
       "      <td>197</td>\n",
       "      <td>Female</td>\n",
       "      <td>45</td>\n",
       "      <td>126</td>\n",
       "      <td>28</td>\n",
       "    </tr>\n",
       "    <tr>\n",
       "      <th>197</th>\n",
       "      <td>198</td>\n",
       "      <td>Male</td>\n",
       "      <td>32</td>\n",
       "      <td>126</td>\n",
       "      <td>74</td>\n",
       "    </tr>\n",
       "    <tr>\n",
       "      <th>198</th>\n",
       "      <td>199</td>\n",
       "      <td>Male</td>\n",
       "      <td>32</td>\n",
       "      <td>137</td>\n",
       "      <td>18</td>\n",
       "    </tr>\n",
       "    <tr>\n",
       "      <th>199</th>\n",
       "      <td>200</td>\n",
       "      <td>Male</td>\n",
       "      <td>30</td>\n",
       "      <td>137</td>\n",
       "      <td>83</td>\n",
       "    </tr>\n",
       "  </tbody>\n",
       "</table>\n",
       "<p>200 rows × 5 columns</p>\n",
       "</div>"
      ],
      "text/plain": [
       "     CustomerID  Gender  Age  Annual Income (k$)  Spending Score (1-100)\n",
       "0             1    Male   19                  15                      39\n",
       "1             2    Male   21                  15                      81\n",
       "2             3  Female   20                  16                       6\n",
       "3             4  Female   23                  16                      77\n",
       "4             5  Female   31                  17                      40\n",
       "..          ...     ...  ...                 ...                     ...\n",
       "195         196  Female   35                 120                      79\n",
       "196         197  Female   45                 126                      28\n",
       "197         198    Male   32                 126                      74\n",
       "198         199    Male   32                 137                      18\n",
       "199         200    Male   30                 137                      83\n",
       "\n",
       "[200 rows x 5 columns]"
      ]
     },
     "execution_count": 3,
     "metadata": {},
     "output_type": "execute_result"
    }
   ],
   "source": [
    "rm=pd.read_csv('Mall_Customers.csv')\n",
    "rm"
   ]
  },
  {
   "cell_type": "code",
   "execution_count": 4,
   "id": "292f4f33",
   "metadata": {},
   "outputs": [
    {
     "data": {
      "text/html": [
       "<div>\n",
       "<style scoped>\n",
       "    .dataframe tbody tr th:only-of-type {\n",
       "        vertical-align: middle;\n",
       "    }\n",
       "\n",
       "    .dataframe tbody tr th {\n",
       "        vertical-align: top;\n",
       "    }\n",
       "\n",
       "    .dataframe thead th {\n",
       "        text-align: right;\n",
       "    }\n",
       "</style>\n",
       "<table border=\"1\" class=\"dataframe\">\n",
       "  <thead>\n",
       "    <tr style=\"text-align: right;\">\n",
       "      <th></th>\n",
       "      <th>CustomerID</th>\n",
       "      <th>Gender</th>\n",
       "      <th>Age</th>\n",
       "      <th>Annual Income (k$)</th>\n",
       "      <th>Spending Score (1-100)</th>\n",
       "    </tr>\n",
       "  </thead>\n",
       "  <tbody>\n",
       "    <tr>\n",
       "      <th>0</th>\n",
       "      <td>1</td>\n",
       "      <td>Male</td>\n",
       "      <td>19</td>\n",
       "      <td>15</td>\n",
       "      <td>39</td>\n",
       "    </tr>\n",
       "    <tr>\n",
       "      <th>1</th>\n",
       "      <td>2</td>\n",
       "      <td>Male</td>\n",
       "      <td>21</td>\n",
       "      <td>15</td>\n",
       "      <td>81</td>\n",
       "    </tr>\n",
       "    <tr>\n",
       "      <th>2</th>\n",
       "      <td>3</td>\n",
       "      <td>Female</td>\n",
       "      <td>20</td>\n",
       "      <td>16</td>\n",
       "      <td>6</td>\n",
       "    </tr>\n",
       "    <tr>\n",
       "      <th>3</th>\n",
       "      <td>4</td>\n",
       "      <td>Female</td>\n",
       "      <td>23</td>\n",
       "      <td>16</td>\n",
       "      <td>77</td>\n",
       "    </tr>\n",
       "    <tr>\n",
       "      <th>4</th>\n",
       "      <td>5</td>\n",
       "      <td>Female</td>\n",
       "      <td>31</td>\n",
       "      <td>17</td>\n",
       "      <td>40</td>\n",
       "    </tr>\n",
       "  </tbody>\n",
       "</table>\n",
       "</div>"
      ],
      "text/plain": [
       "   CustomerID  Gender  Age  Annual Income (k$)  Spending Score (1-100)\n",
       "0           1    Male   19                  15                      39\n",
       "1           2    Male   21                  15                      81\n",
       "2           3  Female   20                  16                       6\n",
       "3           4  Female   23                  16                      77\n",
       "4           5  Female   31                  17                      40"
      ]
     },
     "execution_count": 4,
     "metadata": {},
     "output_type": "execute_result"
    }
   ],
   "source": [
    "rm.head()"
   ]
  },
  {
   "cell_type": "code",
   "execution_count": 5,
   "id": "ee62fabc",
   "metadata": {},
   "outputs": [
    {
     "name": "stdout",
     "output_type": "stream",
     "text": [
      "<class 'pandas.core.frame.DataFrame'>\n",
      "RangeIndex: 200 entries, 0 to 199\n",
      "Data columns (total 5 columns):\n",
      " #   Column                  Non-Null Count  Dtype \n",
      "---  ------                  --------------  ----- \n",
      " 0   CustomerID              200 non-null    int64 \n",
      " 1   Gender                  200 non-null    object\n",
      " 2   Age                     200 non-null    int64 \n",
      " 3   Annual Income (k$)      200 non-null    int64 \n",
      " 4   Spending Score (1-100)  200 non-null    int64 \n",
      "dtypes: int64(4), object(1)\n",
      "memory usage: 7.9+ KB\n"
     ]
    }
   ],
   "source": [
    "rm.info()"
   ]
  },
  {
   "cell_type": "code",
   "execution_count": 6,
   "id": "841d43a2",
   "metadata": {},
   "outputs": [
    {
     "data": {
      "text/plain": [
       "(200, 5)"
      ]
     },
     "execution_count": 6,
     "metadata": {},
     "output_type": "execute_result"
    }
   ],
   "source": [
    "rm.shape"
   ]
  },
  {
   "cell_type": "markdown",
   "id": "bdc2da34",
   "metadata": {},
   "source": [
    "# 3.Perform Below Visualizations."
   ]
  },
  {
   "cell_type": "code",
   "execution_count": 7,
   "id": "58d8b3f1",
   "metadata": {},
   "outputs": [],
   "source": [
    "#univariate analysis"
   ]
  },
  {
   "cell_type": "code",
   "execution_count": 8,
   "id": "c7ad0fe0",
   "metadata": {},
   "outputs": [
    {
     "data": {
      "text/plain": [
       "<seaborn.axisgrid.FacetGrid at 0x157971eab80>"
      ]
     },
     "execution_count": 8,
     "metadata": {},
     "output_type": "execute_result"
    },
    {
     "data": {
      "image/png": "[encoded data removed]",
      "text/plain": [
       "<Figure size 360x360 with 1 Axes>"
      ]
     },
     "metadata": {
      "needs_background": "light"
     },
     "output_type": "display_data"
    }
   ],
   "source": [
    "sns.displot(rm['Gender'])"
   ]
  },
  {
   "cell_type": "code",
   "execution_count": 9,
   "id": "70afe70a",
   "metadata": {},
   "outputs": [
    {
     "name": "stderr",
     "output_type": "stream",
     "text": [
      "C:\\Users\\Vinoth\\anaconda3\\lib\\site-packages\\seaborn\\distributions.py:2619: FutureWarning: `distplot` is a deprecated function and will be removed in a future version. Please adapt your code to use either `displot` (a figure-level function with similar flexibility) or `histplot` (an axes-level function for histograms).\n",
      "  warnings.warn(msg, FutureWarning)\n"
     ]
    },
    {
     "data": {
      "text/plain": [
       "<AxesSubplot:xlabel='Age', ylabel='Density'>"
      ]
     },
     "execution_count": 9,
     "metadata": {},
     "output_type": "execute_result"
    },
    {
     "data": {
      "image/png": "[encoded data removed]",
      "text/plain": [
       "<Figure size 432x288 with 1 Axes>"
      ]
     },
     "metadata": {
      "needs_background": "light"
     },
     "output_type": "display_data"
    }
   ],
   "source": [
    "sns.distplot(rm.Age)"
   ]
  },
  {
   "cell_type": "code",
   "execution_count": 10,
   "id": "a6dbccba",
   "metadata": {},
   "outputs": [
    {
     "data": {
      "text/plain": [
       "Text(0.5, 1.0, 'Gender')"
      ]
     },
     "execution_count": 10,
     "metadata": {},
     "output_type": "execute_result"
    },
    {
     "data": {
      "image/png": "[encoded data removed]",
      "text/plain": [
       "<Figure size 432x288 with 1 Axes>"
      ]
     },
     "metadata": {},
     "output_type": "display_data"
    }
   ],
   "source": [
    " plt.pie(rm.Gender.value_counts(),[0,0.2],labels=['M','F'],autopct=\"%1.1f%%\",colors=['pink','violet'])\n",
    "plt.title('Gender')"
   ]
  },
  {
   "cell_type": "markdown",
   "id": "03b9453b",
   "metadata": {},
   "source": [
    "# Bivariate Analysis"
   ]
  },
  {
   "cell_type": "code",
   "execution_count": 11,
   "id": "2e4e119c",
   "metadata": {},
   "outputs": [
    {
     "name": "stderr",
     "output_type": "stream",
     "text": [
      "C:\\Users\\Vinoth\\anaconda3\\lib\\site-packages\\seaborn\\_decorators.py:36: FutureWarning: Pass the following variables as keyword args: x, y. From version 0.12, the only valid positional argument will be `data`, and passing other arguments without an explicit keyword will result in an error or misinterpretation.\n",
      "  warnings.warn(\n"
     ]
    },
    {
     "data": {
      "text/plain": [
       "<AxesSubplot:xlabel='CustomerID', ylabel='Annual Income (k$)'>"
      ]
     },
     "execution_count": 11,
     "metadata": {},
     "output_type": "execute_result"
    },
    {
     "data": {
      "image/png": "[encoded data removed]",
      "text/plain": [
       "<Figure size 432x288 with 1 Axes>"
      ]
     },
     "metadata": {
      "needs_background": "light"
     },
     "output_type": "display_data"
    }
   ],
   "source": [
    "sns.lineplot(rm.CustomerID,rm['Annual Income (k$)'])"
   ]
  },
  {
   "cell_type": "code",
   "execution_count": 12,
   "id": "f07b10ef",
   "metadata": {},
   "outputs": [
    {
     "name": "stderr",
     "output_type": "stream",
     "text": [
      "C:\\Users\\Vinoth\\anaconda3\\lib\\site-packages\\seaborn\\_decorators.py:36: FutureWarning: Pass the following variables as keyword args: x, y. From version 0.12, the only valid positional argument will be `data`, and passing other arguments without an explicit keyword will result in an error or misinterpretation.\n",
      "  warnings.warn(\n"
     ]
    },
    {
     "data": {
      "text/plain": [
       "<AxesSubplot:xlabel='CustomerID', ylabel='Spending Score (1-100)'>"
      ]
     },
     "execution_count": 12,
     "metadata": {},
     "output_type": "execute_result"
    },
    {
     "data": {
      "image/png": "[encoded data removed]",
      "text/plain": [
       "<Figure size 432x288 with 1 Axes>"
      ]
     },
     "metadata": {
      "needs_background": "light"
     },
     "output_type": "display_data"
    }
   ],
   "source": [
    "sns.barplot(rm.CustomerID,rm['Spending Score (1-100)'])"
   ]
  },
  {
   "cell_type": "markdown",
   "id": "38736037",
   "metadata": {},
   "source": [
    "# Multivariate Analysis"
   ]
  },
  {
   "cell_type": "code",
   "execution_count": 13,
   "id": "2950f14f",
   "metadata": {},
   "outputs": [
    {
     "data": {
      "text/plain": [
       "<AxesSubplot:>"
      ]
     },
     "execution_count": 13,
     "metadata": {},
     "output_type": "execute_result"
    },
    {
     "data": {
      "image/png": "[encoded data removed]",
      "text/plain": [
       "<Figure size 720x576 with 2 Axes>"
      ]
     },
     "metadata": {
      "needs_background": "light"
     },
     "output_type": "display_data"
    }
   ],
   "source": [
    "plt.figure(figsize=(10,8))\n",
    "sns.heatmap(rm.corr(),annot=True)"
   ]
  },
  {
   "cell_type": "code",
   "execution_count": 14,
   "id": "8f22ba68",
   "metadata": {},
   "outputs": [
    {
     "data": {
      "text/plain": [
       "<seaborn.axisgrid.PairGrid at 0x157979203a0>"
      ]
     },
     "execution_count": 14,
     "metadata": {},
     "output_type": "execute_result"
    },
    {
     "data": {
      "image/png": "[encoded data removed]",
      "text/plain": [
       "<Figure size 684.125x720 with 20 Axes>"
      ]
     },
     "metadata": {
      "needs_background": "light"
     },
     "output_type": "display_data"
    }
   ],
   "source": [
    "sns.pairplot(data=rm,aspect=.85,hue='Gender')"
   ]
  },
  {
   "cell_type": "markdown",
   "id": "2bced7c8",
   "metadata": {},
   "source": [
    "# 4.Descriptive statistics"
   ]
  },
  {
   "cell_type": "code",
   "execution_count": 15,
   "id": "cd375d67",
   "metadata": {},
   "outputs": [
    {
     "data": {
      "text/html": [
       "<div>\n",
       "<style scoped>\n",
       "    .dataframe tbody tr th:only-of-type {\n",
       "        vertical-align: middle;\n",
       "    }\n",
       "\n",
       "    .dataframe tbody tr th {\n",
       "        vertical-align: top;\n",
       "    }\n",
       "\n",
       "    .dataframe thead th {\n",
       "        text-align: right;\n",
       "    }\n",
       "</style>\n",
       "<table border=\"1\" class=\"dataframe\">\n",
       "  <thead>\n",
       "    <tr style=\"text-align: right;\">\n",
       "      <th></th>\n",
       "      <th>CustomerID</th>\n",
       "      <th>Age</th>\n",
       "      <th>Annual Income (k$)</th>\n",
       "      <th>Spending Score (1-100)</th>\n",
       "    </tr>\n",
       "  </thead>\n",
       "  <tbody>\n",
       "    <tr>\n",
       "      <th>count</th>\n",
       "      <td>200.000000</td>\n",
       "      <td>200.000000</td>\n",
       "      <td>200.000000</td>\n",
       "      <td>200.000000</td>\n",
       "    </tr>\n",
       "    <tr>\n",
       "      <th>mean</th>\n",
       "      <td>100.500000</td>\n",
       "      <td>38.850000</td>\n",
       "      <td>60.560000</td>\n",
       "      <td>50.200000</td>\n",
       "    </tr>\n",
       "    <tr>\n",
       "      <th>std</th>\n",
       "      <td>57.879185</td>\n",
       "      <td>13.969007</td>\n",
       "      <td>26.264721</td>\n",
       "      <td>25.823522</td>\n",
       "    </tr>\n",
       "    <tr>\n",
       "      <th>min</th>\n",
       "      <td>1.000000</td>\n",
       "      <td>18.000000</td>\n",
       "      <td>15.000000</td>\n",
       "      <td>1.000000</td>\n",
       "    </tr>\n",
       "    <tr>\n",
       "      <th>25%</th>\n",
       "      <td>50.750000</td>\n",
       "      <td>28.750000</td>\n",
       "      <td>41.500000</td>\n",
       "      <td>34.750000</td>\n",
       "    </tr>\n",
       "    <tr>\n",
       "      <th>50%</th>\n",
       "      <td>100.500000</td>\n",
       "      <td>36.000000</td>\n",
       "      <td>61.500000</td>\n",
       "      <td>50.000000</td>\n",
       "    </tr>\n",
       "    <tr>\n",
       "      <th>75%</th>\n",
       "      <td>150.250000</td>\n",
       "      <td>49.000000</td>\n",
       "      <td>78.000000</td>\n",
       "      <td>73.000000</td>\n",
       "    </tr>\n",
       "    <tr>\n",
       "      <th>max</th>\n",
       "      <td>200.000000</td>\n",
       "      <td>70.000000</td>\n",
       "      <td>137.000000</td>\n",
       "      <td>99.000000</td>\n",
       "    </tr>\n",
       "  </tbody>\n",
       "</table>\n",
       "</div>"
      ],
      "text/plain": [
       "       CustomerID         Age  Annual Income (k$)  Spending Score (1-100)\n",
       "count  200.000000  200.000000          200.000000              200.000000\n",
       "mean   100.500000   38.850000           60.560000               50.200000\n",
       "std     57.879185   13.969007           26.264721               25.823522\n",
       "min      1.000000   18.000000           15.000000                1.000000\n",
       "25%     50.750000   28.750000           41.500000               34.750000\n",
       "50%    100.500000   36.000000           61.500000               50.000000\n",
       "75%    150.250000   49.000000           78.000000               73.000000\n",
       "max    200.000000   70.000000          137.000000               99.000000"
      ]
     },
     "execution_count": 15,
     "metadata": {},
     "output_type": "execute_result"
    }
   ],
   "source": [
    "rm.describe()"
   ]
  },
  {
   "cell_type": "code",
   "execution_count": 16,
   "id": "8439c53f",
   "metadata": {},
   "outputs": [
    {
     "data": {
      "text/plain": [
       "36.0"
      ]
     },
     "execution_count": 16,
     "metadata": {},
     "output_type": "execute_result"
    }
   ],
   "source": [
    "rm.Age.median()"
   ]
  },
  {
   "cell_type": "code",
   "execution_count": 17,
   "id": "f9bdbbd1",
   "metadata": {},
   "outputs": [
    {
     "data": {
      "text/plain": [
       "61.5"
      ]
     },
     "execution_count": 17,
     "metadata": {},
     "output_type": "execute_result"
    }
   ],
   "source": [
    "rm['Annual Income (k$)'].median()"
   ]
  },
  {
   "cell_type": "code",
   "execution_count": 18,
   "id": "8cd95227",
   "metadata": {},
   "outputs": [
    {
     "data": {
      "text/plain": [
       "100.5"
      ]
     },
     "execution_count": 18,
     "metadata": {},
     "output_type": "execute_result"
    }
   ],
   "source": [
    "rm.CustomerID.median()"
   ]
  },
  {
   "cell_type": "markdown",
   "id": "4a2fc08e",
   "metadata": {},
   "source": [
    "# 5.Handling missing values"
   ]
  },
  {
   "cell_type": "code",
   "execution_count": 19,
   "id": "da0dd41f",
   "metadata": {},
   "outputs": [
    {
     "data": {
      "text/plain": [
       "CustomerID                False\n",
       "Gender                    False\n",
       "Age                       False\n",
       "Annual Income (k$)        False\n",
       "Spending Score (1-100)    False\n",
       "dtype: bool"
      ]
     },
     "execution_count": 19,
     "metadata": {},
     "output_type": "execute_result"
    }
   ],
   "source": [
    "rm.isnull().any()"
   ]
  },
  {
   "cell_type": "code",
   "execution_count": 20,
   "id": "ad91e8fa",
   "metadata": {
    "scrolled": true
   },
   "outputs": [
    {
     "data": {
      "text/plain": [
       "CustomerID                0\n",
       "Gender                    0\n",
       "Age                       0\n",
       "Annual Income (k$)        0\n",
       "Spending Score (1-100)    0\n",
       "dtype: int64"
      ]
     },
     "execution_count": 20,
     "metadata": {},
     "output_type": "execute_result"
    }
   ],
   "source": [
    "rm.isnull().sum()"
   ]
  },
  {
   "cell_type": "markdown",
   "id": "27a9597f",
   "metadata": {},
   "source": [
    "# 6.Finding and replacing the outliers"
   ]
  },
  {
   "cell_type": "code",
   "execution_count": 21,
   "id": "af6e418b",
   "metadata": {},
   "outputs": [
    {
     "name": "stderr",
     "output_type": "stream",
     "text": [
      "C:\\Users\\Vinoth\\anaconda3\\lib\\site-packages\\seaborn\\_decorators.py:36: FutureWarning: Pass the following variable as a keyword arg: x. From version 0.12, the only valid positional argument will be `data`, and passing other arguments without an explicit keyword will result in an error or misinterpretation.\n",
      "  warnings.warn(\n"
     ]
    },
    {
     "data": {
      "text/plain": [
       "<AxesSubplot:xlabel='Age'>"
      ]
     },
     "execution_count": 21,
     "metadata": {},
     "output_type": "execute_result"
    },
    {
     "data": {
      "image/png": "[encoded data removed]",
      "text/plain": [
       "<Figure size 432x288 with 1 Axes>"
      ]
     },
     "metadata": {
      "needs_background": "light"
     },
     "output_type": "display_data"
    }
   ],
   "source": [
    "sns.boxplot(rm.Age)"
   ]
  },
  {
   "cell_type": "code",
   "execution_count": 22,
   "id": "98a899f8",
   "metadata": {},
   "outputs": [
    {
     "name": "stderr",
     "output_type": "stream",
     "text": [
      "C:\\Users\\Vinoth\\anaconda3\\lib\\site-packages\\seaborn\\_decorators.py:36: FutureWarning: Pass the following variable as a keyword arg: x. From version 0.12, the only valid positional argument will be `data`, and passing other arguments without an explicit keyword will result in an error or misinterpretation.\n",
      "  warnings.warn(\n"
     ]
    },
    {
     "data": {
      "text/plain": [
       "<AxesSubplot:xlabel='CustomerID'>"
      ]
     },
     "execution_count": 22,
     "metadata": {},
     "output_type": "execute_result"
    },
    {
     "data": {
      "image/png": "[encoded data removed]",
      "text/plain": [
       "<Figure size 432x288 with 1 Axes>"
      ]
     },
     "metadata": {
      "needs_background": "light"
     },
     "output_type": "display_data"
    }
   ],
   "source": [
    "sns.boxplot(rm.CustomerID)"
   ]
  },
  {
   "cell_type": "code",
   "execution_count": 23,
   "id": "2533a884",
   "metadata": {},
   "outputs": [
    {
     "name": "stderr",
     "output_type": "stream",
     "text": [
      "C:\\Users\\Vinoth\\anaconda3\\lib\\site-packages\\seaborn\\_decorators.py:36: FutureWarning: Pass the following variable as a keyword arg: x. From version 0.12, the only valid positional argument will be `data`, and passing other arguments without an explicit keyword will result in an error or misinterpretation.\n",
      "  warnings.warn(\n"
     ]
    },
    {
     "data": {
      "text/plain": [
       "<AxesSubplot:xlabel='Spending Score (1-100)'>"
      ]
     },
     "execution_count": 23,
     "metadata": {},
     "output_type": "execute_result"
    },
    {
     "data": {
      "image/png": "[encoded data removed]",
      "text/plain": [
       "<Figure size 432x288 with 1 Axes>"
      ]
     },
     "metadata": {
      "needs_background": "light"
     },
     "output_type": "display_data"
    }
   ],
   "source": [
    "sns.boxplot(rm['Spending Score (1-100)'])"
   ]
  },
  {
   "cell_type": "code",
   "execution_count": 24,
   "id": "bb9e27c9",
   "metadata": {},
   "outputs": [
    {
     "name": "stderr",
     "output_type": "stream",
     "text": [
      "C:\\Users\\Vinoth\\anaconda3\\lib\\site-packages\\seaborn\\_decorators.py:36: FutureWarning: Pass the following variable as a keyword arg: x. From version 0.12, the only valid positional argument will be `data`, and passing other arguments without an explicit keyword will result in an error or misinterpretation.\n",
      "  warnings.warn(\n"
     ]
    },
    {
     "data": {
      "text/plain": [
       "<AxesSubplot:xlabel='Annual Income (k$)'>"
      ]
     },
     "execution_count": 24,
     "metadata": {},
     "output_type": "execute_result"
    },
    {
     "data": {
      "image/png": "[encoded data removed]",
      "text/plain": [
       "<Figure size 432x288 with 1 Axes>"
      ]
     },
     "metadata": {
      "needs_background": "light"
     },
     "output_type": "display_data"
    }
   ],
   "source": [
    "sns.boxplot(rm['Annual Income (k$)'])"
   ]
  },
  {
   "cell_type": "code",
   "execution_count": 25,
   "id": "30645bb0",
   "metadata": {},
   "outputs": [
    {
     "name": "stdout",
     "output_type": "stream",
     "text": [
      "41.5\n",
      "78.0\n"
     ]
    }
   ],
   "source": [
    "q1=rm['Annual Income (k$)'].quantile(0.25)\n",
    "q3=rm['Annual Income (k$)'].quantile(0.75)\n",
    "print(q1)\n",
    "print(q3)"
   ]
  },
  {
   "cell_type": "code",
   "execution_count": 26,
   "id": "6a1d2ded",
   "metadata": {},
   "outputs": [
    {
     "data": {
      "text/plain": [
       "36.5"
      ]
     },
     "execution_count": 26,
     "metadata": {},
     "output_type": "execute_result"
    }
   ],
   "source": [
    "iqr=q3-q1\n",
    "iqr"
   ]
  },
  {
   "cell_type": "code",
   "execution_count": 27,
   "id": "6e1d8b6a",
   "metadata": {},
   "outputs": [
    {
     "data": {
      "text/plain": [
       "132.75"
      ]
     },
     "execution_count": 27,
     "metadata": {},
     "output_type": "execute_result"
    }
   ],
   "source": [
    "UL=q3+1.5*iqr\n",
    "UL"
   ]
  },
  {
   "cell_type": "code",
   "execution_count": 28,
   "id": "554e301d",
   "metadata": {},
   "outputs": [
    {
     "data": {
      "text/plain": [
       "61.5"
      ]
     },
     "execution_count": 28,
     "metadata": {},
     "output_type": "execute_result"
    }
   ],
   "source": [
    "rm['Annual Income (k$)'].median()"
   ]
  },
  {
   "cell_type": "code",
   "execution_count": 29,
   "id": "07d24893",
   "metadata": {},
   "outputs": [],
   "source": [
    "rm['Annual Income (k$)']=np.where(rm['Annual Income (k$)']>UL,61.5,rm['Annual Income (k$)'])"
   ]
  },
  {
   "cell_type": "code",
   "execution_count": 30,
   "id": "1f12e8c2",
   "metadata": {},
   "outputs": [
    {
     "name": "stderr",
     "output_type": "stream",
     "text": [
      "C:\\Users\\Vinoth\\anaconda3\\lib\\site-packages\\seaborn\\_decorators.py:36: FutureWarning: Pass the following variable as a keyword arg: x. From version 0.12, the only valid positional argument will be `data`, and passing other arguments without an explicit keyword will result in an error or misinterpretation.\n",
      "  warnings.warn(\n"
     ]
    },
    {
     "data": {
      "text/plain": [
       "<AxesSubplot:xlabel='Annual Income (k$)'>"
      ]
     },
     "execution_count": 30,
     "metadata": {},
     "output_type": "execute_result"
    },
    {
     "data": {
      "image/png": "[encoded data removed]",
      "text/plain": [
       "<Figure size 432x288 with 1 Axes>"
      ]
     },
     "metadata": {
      "needs_background": "light"
     },
     "output_type": "display_data"
    }
   ],
   "source": [
    "sns.boxplot(rm['Annual Income (k$)'])"
   ]
  },
  {
   "cell_type": "code",
   "execution_count": 31,
   "id": "ece78bc1",
   "metadata": {},
   "outputs": [
    {
     "data": {
      "text/plain": [
       "<seaborn.axisgrid.PairGrid at 0x15799a4ed30>"
      ]
     },
     "execution_count": 31,
     "metadata": {},
     "output_type": "execute_result"
    },
    {
     "data": {
      "image/png": "[encoded data removed]",
      "text/plain": [
       "<Figure size 720x720 with 20 Axes>"
      ]
     },
     "metadata": {
      "needs_background": "light"
     },
     "output_type": "display_data"
    }
   ],
   "source": [
    "sns.pairplot(data=rm)"
   ]
  },
  {
   "cell_type": "markdown",
   "id": "499083bd",
   "metadata": {},
   "source": [
    "# 7.Encoding categorical columns and perform encoding"
   ]
  },
  {
   "cell_type": "code",
   "execution_count": 32,
   "id": "bcbe8df7",
   "metadata": {},
   "outputs": [
    {
     "data": {
      "text/html": [
       "<div>\n",
       "<style scoped>\n",
       "    .dataframe tbody tr th:only-of-type {\n",
       "        vertical-align: middle;\n",
       "    }\n",
       "\n",
       "    .dataframe tbody tr th {\n",
       "        vertical-align: top;\n",
       "    }\n",
       "\n",
       "    .dataframe thead th {\n",
       "        text-align: right;\n",
       "    }\n",
       "</style>\n",
       "<table border=\"1\" class=\"dataframe\">\n",
       "  <thead>\n",
       "    <tr style=\"text-align: right;\">\n",
       "      <th></th>\n",
       "      <th>CustomerID</th>\n",
       "      <th>Gender</th>\n",
       "      <th>Age</th>\n",
       "      <th>Annual Income (k$)</th>\n",
       "      <th>Spending Score (1-100)</th>\n",
       "    </tr>\n",
       "  </thead>\n",
       "  <tbody>\n",
       "    <tr>\n",
       "      <th>0</th>\n",
       "      <td>1</td>\n",
       "      <td>Male</td>\n",
       "      <td>19</td>\n",
       "      <td>15.0</td>\n",
       "      <td>39</td>\n",
       "    </tr>\n",
       "    <tr>\n",
       "      <th>1</th>\n",
       "      <td>2</td>\n",
       "      <td>Male</td>\n",
       "      <td>21</td>\n",
       "      <td>15.0</td>\n",
       "      <td>81</td>\n",
       "    </tr>\n",
       "    <tr>\n",
       "      <th>2</th>\n",
       "      <td>3</td>\n",
       "      <td>Female</td>\n",
       "      <td>20</td>\n",
       "      <td>16.0</td>\n",
       "      <td>6</td>\n",
       "    </tr>\n",
       "    <tr>\n",
       "      <th>3</th>\n",
       "      <td>4</td>\n",
       "      <td>Female</td>\n",
       "      <td>23</td>\n",
       "      <td>16.0</td>\n",
       "      <td>77</td>\n",
       "    </tr>\n",
       "    <tr>\n",
       "      <th>4</th>\n",
       "      <td>5</td>\n",
       "      <td>Female</td>\n",
       "      <td>31</td>\n",
       "      <td>17.0</td>\n",
       "      <td>40</td>\n",
       "    </tr>\n",
       "  </tbody>\n",
       "</table>\n",
       "</div>"
      ],
      "text/plain": [
       "   CustomerID  Gender  Age  Annual Income (k$)  Spending Score (1-100)\n",
       "0           1    Male   19                15.0                      39\n",
       "1           2    Male   21                15.0                      81\n",
       "2           3  Female   20                16.0                       6\n",
       "3           4  Female   23                16.0                      77\n",
       "4           5  Female   31                17.0                      40"
      ]
     },
     "execution_count": 32,
     "metadata": {},
     "output_type": "execute_result"
    }
   ],
   "source": [
    "rm.head()"
   ]
  },
  {
   "cell_type": "code",
   "execution_count": 33,
   "id": "6d9b4cde",
   "metadata": {},
   "outputs": [],
   "source": [
    "from sklearn.preprocessing import LabelEncoder"
   ]
  },
  {
   "cell_type": "code",
   "execution_count": 34,
   "id": "0710b5af",
   "metadata": {},
   "outputs": [],
   "source": [
    "le=LabelEncoder()"
   ]
  },
  {
   "cell_type": "code",
   "execution_count": 35,
   "id": "4376aee1",
   "metadata": {},
   "outputs": [],
   "source": [
    "rm.Gender=le.fit_transform(rm.Gender)"
   ]
  },
  {
   "cell_type": "code",
   "execution_count": 36,
   "id": "be9708fc",
   "metadata": {},
   "outputs": [
    {
     "data": {
      "text/html": [
       "<div>\n",
       "<style scoped>\n",
       "    .dataframe tbody tr th:only-of-type {\n",
       "        vertical-align: middle;\n",
       "    }\n",
       "\n",
       "    .dataframe tbody tr th {\n",
       "        vertical-align: top;\n",
       "    }\n",
       "\n",
       "    .dataframe thead th {\n",
       "        text-align: right;\n",
       "    }\n",
       "</style>\n",
       "<table border=\"1\" class=\"dataframe\">\n",
       "  <thead>\n",
       "    <tr style=\"text-align: right;\">\n",
       "      <th></th>\n",
       "      <th>CustomerID</th>\n",
       "      <th>Gender</th>\n",
       "      <th>Age</th>\n",
       "      <th>Annual Income (k$)</th>\n",
       "      <th>Spending Score (1-100)</th>\n",
       "    </tr>\n",
       "  </thead>\n",
       "  <tbody>\n",
       "    <tr>\n",
       "      <th>0</th>\n",
       "      <td>1</td>\n",
       "      <td>1</td>\n",
       "      <td>19</td>\n",
       "      <td>15.0</td>\n",
       "      <td>39</td>\n",
       "    </tr>\n",
       "    <tr>\n",
       "      <th>1</th>\n",
       "      <td>2</td>\n",
       "      <td>1</td>\n",
       "      <td>21</td>\n",
       "      <td>15.0</td>\n",
       "      <td>81</td>\n",
       "    </tr>\n",
       "    <tr>\n",
       "      <th>2</th>\n",
       "      <td>3</td>\n",
       "      <td>0</td>\n",
       "      <td>20</td>\n",
       "      <td>16.0</td>\n",
       "      <td>6</td>\n",
       "    </tr>\n",
       "    <tr>\n",
       "      <th>3</th>\n",
       "      <td>4</td>\n",
       "      <td>0</td>\n",
       "      <td>23</td>\n",
       "      <td>16.0</td>\n",
       "      <td>77</td>\n",
       "    </tr>\n",
       "    <tr>\n",
       "      <th>4</th>\n",
       "      <td>5</td>\n",
       "      <td>0</td>\n",
       "      <td>31</td>\n",
       "      <td>17.0</td>\n",
       "      <td>40</td>\n",
       "    </tr>\n",
       "  </tbody>\n",
       "</table>\n",
       "</div>"
      ],
      "text/plain": [
       "   CustomerID  Gender  Age  Annual Income (k$)  Spending Score (1-100)\n",
       "0           1       1   19                15.0                      39\n",
       "1           2       1   21                15.0                      81\n",
       "2           3       0   20                16.0                       6\n",
       "3           4       0   23                16.0                      77\n",
       "4           5       0   31                17.0                      40"
      ]
     },
     "execution_count": 36,
     "metadata": {},
     "output_type": "execute_result"
    }
   ],
   "source": [
    "rm.head()"
   ]
  },
  {
   "cell_type": "code",
   "execution_count": 37,
   "id": "b0bc91af",
   "metadata": {},
   "outputs": [
    {
     "data": {
      "text/plain": [
       "0    112\n",
       "1     88\n",
       "Name: Gender, dtype: int64"
      ]
     },
     "execution_count": 37,
     "metadata": {},
     "output_type": "execute_result"
    }
   ],
   "source": [
    "rm.Gender.value_counts()"
   ]
  },
  {
   "cell_type": "markdown",
   "id": "9966cb2a",
   "metadata": {},
   "source": [
    "# 8.Scaling the data"
   ]
  },
  {
   "cell_type": "code",
   "execution_count": 38,
   "id": "fb0b2fa8",
   "metadata": {},
   "outputs": [],
   "source": [
    "from sklearn.preprocessing import MinMaxScaler"
   ]
  },
  {
   "cell_type": "code",
   "execution_count": 39,
   "id": "42c3a675",
   "metadata": {},
   "outputs": [],
   "source": [
    "sc=MinMaxScaler()"
   ]
  },
  {
   "cell_type": "code",
   "execution_count": 40,
   "id": "8faa238e",
   "metadata": {},
   "outputs": [
    {
     "data": {
      "text/plain": [
       "array([[0.        , 1.        , 0.01923077, 0.        , 0.3877551 ],\n",
       "       [0.00502513, 1.        , 0.05769231, 0.        , 0.81632653],\n",
       "       [0.01005025, 0.        , 0.03846154, 0.00900901, 0.05102041],\n",
       "       [0.01507538, 0.        , 0.09615385, 0.00900901, 0.7755102 ],\n",
       "       [0.0201005 , 0.        , 0.25      , 0.01801802, 0.39795918],\n",
       "       [0.02512563, 0.        , 0.07692308, 0.01801802, 0.76530612],\n",
       "       [0.03015075, 0.        , 0.32692308, 0.02702703, 0.05102041],\n",
       "       [0.03517588, 0.        , 0.09615385, 0.02702703, 0.94897959],\n",
       "       [0.04020101, 1.        , 0.88461538, 0.03603604, 0.02040816],\n",
       "       [0.04522613, 0.        , 0.23076923, 0.03603604, 0.7244898 ],\n",
       "       [0.05025126, 1.        , 0.94230769, 0.03603604, 0.13265306],\n",
       "       [0.05527638, 0.        , 0.32692308, 0.03603604, 1.        ],\n",
       "       [0.06030151, 0.        , 0.76923077, 0.04504505, 0.14285714],\n",
       "       [0.06532663, 0.        , 0.11538462, 0.04504505, 0.7755102 ],\n",
       "       [0.07035176, 1.        , 0.36538462, 0.04504505, 0.12244898],\n",
       "       [0.07537688, 1.        , 0.07692308, 0.04504505, 0.79591837],\n",
       "       [0.08040201, 0.        , 0.32692308, 0.05405405, 0.34693878],\n",
       "       [0.08542714, 1.        , 0.03846154, 0.05405405, 0.66326531],\n",
       "       [0.09045226, 1.        , 0.65384615, 0.07207207, 0.28571429],\n",
       "       [0.09547739, 0.        , 0.32692308, 0.07207207, 0.98979592],\n",
       "       [0.10050251, 1.        , 0.32692308, 0.08108108, 0.34693878],\n",
       "       [0.10552764, 1.        , 0.13461538, 0.08108108, 0.73469388],\n",
       "       [0.11055276, 0.        , 0.53846154, 0.09009009, 0.04081633],\n",
       "       [0.11557789, 1.        , 0.25      , 0.09009009, 0.73469388],\n",
       "       [0.12060302, 0.        , 0.69230769, 0.11711712, 0.13265306],\n",
       "       [0.12562814, 1.        , 0.21153846, 0.11711712, 0.82653061],\n",
       "       [0.13065327, 0.        , 0.51923077, 0.11711712, 0.31632653],\n",
       "       [0.13567839, 1.        , 0.32692308, 0.11711712, 0.6122449 ],\n",
       "       [0.14070352, 0.        , 0.42307692, 0.12612613, 0.30612245],\n",
       "       [0.14572864, 0.        , 0.09615385, 0.12612613, 0.87755102],\n",
       "       [0.15075377, 1.        , 0.80769231, 0.13513514, 0.03061224],\n",
       "       [0.15577889, 0.        , 0.05769231, 0.13513514, 0.73469388],\n",
       "       [0.16080402, 1.        , 0.67307692, 0.16216216, 0.03061224],\n",
       "       [0.16582915, 1.        , 0.        , 0.16216216, 0.92857143],\n",
       "       [0.17085427, 0.        , 0.59615385, 0.16216216, 0.13265306],\n",
       "       [0.1758794 , 0.        , 0.05769231, 0.16216216, 0.81632653],\n",
       "       [0.18090452, 0.        , 0.46153846, 0.17117117, 0.16326531],\n",
       "       [0.18592965, 0.        , 0.23076923, 0.17117117, 0.73469388],\n",
       "       [0.19095477, 0.        , 0.34615385, 0.1981982 , 0.25510204],\n",
       "       [0.1959799 , 0.        , 0.03846154, 0.1981982 , 0.75510204],\n",
       "       [0.20100503, 0.        , 0.90384615, 0.20720721, 0.34693878],\n",
       "       [0.20603015, 1.        , 0.11538462, 0.20720721, 0.92857143],\n",
       "       [0.21105528, 1.        , 0.57692308, 0.21621622, 0.35714286],\n",
       "       [0.2160804 , 0.        , 0.25      , 0.21621622, 0.6122449 ],\n",
       "       [0.22110553, 0.        , 0.59615385, 0.21621622, 0.2755102 ],\n",
       "       [0.22613065, 0.        , 0.11538462, 0.21621622, 0.65306122],\n",
       "       [0.23115578, 0.        , 0.61538462, 0.22522523, 0.55102041],\n",
       "       [0.2361809 , 0.        , 0.17307692, 0.22522523, 0.46938776],\n",
       "       [0.24120603, 0.        , 0.21153846, 0.22522523, 0.41836735],\n",
       "       [0.24623116, 0.        , 0.25      , 0.22522523, 0.41836735],\n",
       "       [0.25125628, 0.        , 0.59615385, 0.24324324, 0.52040816],\n",
       "       [0.25628141, 1.        , 0.28846154, 0.24324324, 0.60204082],\n",
       "       [0.26130653, 0.        , 0.25      , 0.25225225, 0.54081633],\n",
       "       [0.26633166, 1.        , 0.78846154, 0.25225225, 0.60204082],\n",
       "       [0.27135678, 0.        , 0.61538462, 0.25225225, 0.44897959],\n",
       "       [0.27638191, 1.        , 0.55769231, 0.25225225, 0.40816327],\n",
       "       [0.28140704, 0.        , 0.63461538, 0.26126126, 0.5       ],\n",
       "       [0.28643216, 1.        , 0.98076923, 0.26126126, 0.45918367],\n",
       "       [0.29145729, 0.        , 0.17307692, 0.27927928, 0.51020408],\n",
       "       [0.29648241, 1.        , 0.67307692, 0.27927928, 0.45918367],\n",
       "       [0.30150754, 1.        , 1.        , 0.27927928, 0.56122449],\n",
       "       [0.30653266, 1.        , 0.01923077, 0.27927928, 0.55102041],\n",
       "       [0.31155779, 0.        , 0.94230769, 0.28828829, 0.52040816],\n",
       "       [0.31658291, 0.        , 0.69230769, 0.28828829, 0.59183673],\n",
       "       [0.32160804, 1.        , 0.86538462, 0.2972973 , 0.51020408],\n",
       "       [0.32663317, 1.        , 0.        , 0.2972973 , 0.59183673],\n",
       "       [0.33165829, 0.        , 0.48076923, 0.2972973 , 0.5       ],\n",
       "       [0.33668342, 0.        , 0.96153846, 0.2972973 , 0.47959184],\n",
       "       [0.34170854, 1.        , 0.01923077, 0.2972973 , 0.59183673],\n",
       "       [0.34673367, 0.        , 0.26923077, 0.2972973 , 0.46938776],\n",
       "       [0.35175879, 1.        , 1.        , 0.30630631, 0.55102041],\n",
       "       [0.35678392, 0.        , 0.55769231, 0.30630631, 0.41836735],\n",
       "       [0.36180905, 0.        , 0.80769231, 0.31531532, 0.48979592],\n",
       "       [0.36683417, 0.        , 0.80769231, 0.31531532, 0.56122449],\n",
       "       [0.3718593 , 1.        , 0.78846154, 0.35135135, 0.46938776],\n",
       "       [0.37688442, 1.        , 0.15384615, 0.35135135, 0.54081633],\n",
       "       [0.38190955, 0.        , 0.51923077, 0.35135135, 0.53061224],\n",
       "       [0.38693467, 1.        , 0.42307692, 0.35135135, 0.47959184],\n",
       "       [0.3919598 , 0.        , 0.09615385, 0.35135135, 0.52040816],\n",
       "       [0.39698492, 0.        , 0.59615385, 0.35135135, 0.41836735],\n",
       "       [0.40201005, 1.        , 0.75      , 0.35135135, 0.51020408],\n",
       "       [0.40703518, 1.        , 0.38461538, 0.35135135, 0.55102041],\n",
       "       [0.4120603 , 1.        , 0.94230769, 0.35135135, 0.40816327],\n",
       "       [0.41708543, 0.        , 0.53846154, 0.35135135, 0.43877551],\n",
       "       [0.42211055, 0.        , 0.05769231, 0.35135135, 0.57142857],\n",
       "       [0.42713568, 1.        , 0.57692308, 0.35135135, 0.45918367],\n",
       "       [0.4321608 , 0.        , 0.71153846, 0.37837838, 0.58163265],\n",
       "       [0.43718593, 0.        , 0.07692308, 0.37837838, 0.55102041],\n",
       "       [0.44221106, 0.        , 0.30769231, 0.38738739, 0.60204082],\n",
       "       [0.44723618, 0.        , 0.61538462, 0.38738739, 0.45918367],\n",
       "       [0.45226131, 0.        , 0.96153846, 0.3963964 , 0.55102041],\n",
       "       [0.45728643, 1.        , 0.        , 0.3963964 , 0.40816327],\n",
       "       [0.46231156, 1.        , 0.57692308, 0.40540541, 0.48979592],\n",
       "       [0.46733668, 0.        , 0.42307692, 0.40540541, 0.39795918],\n",
       "       [0.47236181, 0.        , 0.26923077, 0.40540541, 0.41836735],\n",
       "       [0.47738693, 1.        , 0.11538462, 0.40540541, 0.52040816],\n",
       "       [0.48241206, 0.        , 0.55769231, 0.40540541, 0.46938776],\n",
       "       [0.48743719, 0.        , 0.17307692, 0.40540541, 0.5       ],\n",
       "       [0.49246231, 1.        , 0.57692308, 0.41441441, 0.41836735],\n",
       "       [0.49748744, 1.        , 0.03846154, 0.41441441, 0.48979592],\n",
       "       [0.50251256, 0.        , 0.09615385, 0.42342342, 0.40816327],\n",
       "       [0.50753769, 0.        , 0.59615385, 0.42342342, 0.47959184],\n",
       "       [0.51256281, 1.        , 0.94230769, 0.42342342, 0.59183673],\n",
       "       [0.51758794, 1.        , 0.15384615, 0.42342342, 0.55102041],\n",
       "       [0.52261307, 1.        , 0.59615385, 0.42342342, 0.56122449],\n",
       "       [0.52763819, 0.        , 0.05769231, 0.42342342, 0.41836735],\n",
       "       [0.53266332, 0.        , 0.92307692, 0.43243243, 0.5       ],\n",
       "       [0.53768844, 1.        , 0.69230769, 0.43243243, 0.45918367],\n",
       "       [0.54271357, 1.        , 0.96153846, 0.43243243, 0.42857143],\n",
       "       [0.54773869, 1.        , 0.92307692, 0.43243243, 0.47959184],\n",
       "       [0.55276382, 1.        , 0.90384615, 0.43243243, 0.52040816],\n",
       "       [0.55778894, 0.        , 0.01923077, 0.43243243, 0.54081633],\n",
       "       [0.56281407, 0.        , 0.38461538, 0.44144144, 0.41836735],\n",
       "       [0.5678392 , 1.        , 0.01923077, 0.44144144, 0.45918367],\n",
       "       [0.57286432, 0.        , 0.        , 0.45045045, 0.47959184],\n",
       "       [0.57788945, 0.        , 0.01923077, 0.45045045, 0.5       ],\n",
       "       [0.58291457, 0.        , 0.86538462, 0.45045045, 0.42857143],\n",
       "       [0.5879397 , 0.        , 0.59615385, 0.45045045, 0.59183673],\n",
       "       [0.59296482, 0.        , 0.63461538, 0.46846847, 0.42857143],\n",
       "       [0.59798995, 0.        , 0.61538462, 0.46846847, 0.57142857],\n",
       "       [0.60301508, 1.        , 0.17307692, 0.46846847, 0.56122449],\n",
       "       [0.6080402 , 0.        , 0.38461538, 0.46846847, 0.39795918],\n",
       "       [0.61306533, 0.        , 0.42307692, 0.48648649, 0.58163265],\n",
       "       [0.61809045, 1.        , 0.40384615, 0.48648649, 0.91836735],\n",
       "       [0.62311558, 0.        , 0.09615385, 0.4954955 , 0.28571429],\n",
       "       [0.6281407 , 0.        , 0.25      , 0.4954955 , 0.7755102 ],\n",
       "       [0.63316583, 1.        , 0.48076923, 0.5045045 , 0.34693878],\n",
       "       [0.63819095, 1.        , 0.42307692, 0.5045045 , 0.95918367],\n",
       "       [0.64321608, 1.        , 0.78846154, 0.5045045 , 0.10204082],\n",
       "       [0.64824121, 1.        , 0.38461538, 0.5045045 , 0.75510204],\n",
       "       [0.65326633, 1.        , 0.55769231, 0.5045045 , 0.08163265],\n",
       "       [0.65829146, 1.        , 0.40384615, 0.5045045 , 0.75510204],\n",
       "       [0.66331658, 0.        , 0.13461538, 0.51351351, 0.33673469],\n",
       "       [0.66834171, 0.        , 0.25      , 0.51351351, 0.71428571],\n",
       "       [0.67336683, 1.        , 0.03846154, 0.52252252, 0.04081633],\n",
       "       [0.67839196, 0.        , 0.21153846, 0.52252252, 0.8877551 ],\n",
       "       [0.68341709, 0.        , 0.5       , 0.52252252, 0.06122449],\n",
       "       [0.68844221, 1.        , 0.26923077, 0.52252252, 0.73469388],\n",
       "       [0.69346734, 1.        , 0.01923077, 0.53153153, 0.09183673],\n",
       "       [0.69849246, 0.        , 0.32692308, 0.53153153, 0.7244898 ],\n",
       "       [0.70351759, 0.        , 0.75      , 0.54054054, 0.04081633],\n",
       "       [0.70854271, 1.        , 0.26923077, 0.54054054, 0.93877551],\n",
       "       [0.71356784, 0.        , 0.19230769, 0.54954955, 0.39795918],\n",
       "       [0.71859296, 0.        , 0.26923077, 0.54954955, 0.87755102],\n",
       "       [0.72361809, 1.        , 0.13461538, 0.55855856, 0.1122449 ],\n",
       "       [0.72864322, 1.        , 0.19230769, 0.55855856, 0.97959184],\n",
       "       [0.73366834, 1.        , 0.57692308, 0.55855856, 0.35714286],\n",
       "       [0.73869347, 0.        , 0.26923077, 0.55855856, 0.74489796],\n",
       "       [0.74371859, 0.        , 0.30769231, 0.56756757, 0.21428571],\n",
       "       [0.74874372, 1.        , 0.30769231, 0.56756757, 0.90816327],\n",
       "       [0.75376884, 1.        , 0.48076923, 0.56756757, 0.16326531],\n",
       "       [0.75879397, 1.        , 0.40384615, 0.56756757, 0.8877551 ],\n",
       "       [0.7638191 , 0.        , 0.5       , 0.56756757, 0.19387755],\n",
       "       [0.76884422, 0.        , 0.38461538, 0.56756757, 0.76530612],\n",
       "       [0.77386935, 0.        , 0.55769231, 0.56756757, 0.15306122],\n",
       "       [0.77889447, 0.        , 0.17307692, 0.56756757, 0.89795918],\n",
       "       [0.7839196 , 1.        , 0.36538462, 0.56756757, 0.        ],\n",
       "       [0.78894472, 0.        , 0.23076923, 0.56756757, 0.78571429],\n",
       "       [0.79396985, 1.        , 0.30769231, 0.56756757, 0.        ],\n",
       "       [0.79899497, 0.        , 0.23076923, 0.56756757, 0.73469388],\n",
       "       [0.8040201 , 0.        , 0.73076923, 0.57657658, 0.34693878],\n",
       "       [0.80904523, 0.        , 0.21153846, 0.57657658, 0.83673469],\n",
       "       [0.81407035, 1.        , 0.01923077, 0.59459459, 0.04081633],\n",
       "       [0.81909548, 0.        , 0.25      , 0.59459459, 0.93877551],\n",
       "       [0.8241206 , 1.        , 0.61538462, 0.63063063, 0.25510204],\n",
       "       [0.82914573, 0.        , 0.34615385, 0.63063063, 0.75510204],\n",
       "       [0.83417085, 1.        , 0.46153846, 0.63963964, 0.19387755],\n",
       "       [0.83919598, 0.        , 0.28846154, 0.63963964, 0.95918367],\n",
       "       [0.84422111, 0.        , 0.34615385, 0.64864865, 0.26530612],\n",
       "       [0.84924623, 1.        , 0.26923077, 0.64864865, 0.63265306],\n",
       "       [0.85427136, 1.        , 0.42307692, 0.64864865, 0.12244898],\n",
       "       [0.85929648, 1.        , 0.19230769, 0.64864865, 0.75510204],\n",
       "       [0.86432161, 1.        , 0.34615385, 0.64864865, 0.09183673],\n",
       "       [0.86934673, 1.        , 0.34615385, 0.64864865, 0.92857143],\n",
       "       [0.87437186, 0.        , 0.65384615, 0.65765766, 0.12244898],\n",
       "       [0.87939698, 0.        , 0.23076923, 0.65765766, 0.86734694],\n",
       "       [0.88442211, 1.        , 0.76923077, 0.65765766, 0.14285714],\n",
       "       [0.88944724, 1.        , 0.17307692, 0.65765766, 0.69387755],\n",
       "       [0.89447236, 1.        , 0.78846154, 0.7027027 , 0.13265306],\n",
       "       [0.89949749, 1.        , 0.32692308, 0.7027027 , 0.90816327],\n",
       "       [0.90452261, 0.        , 0.36538462, 0.73873874, 0.31632653],\n",
       "       [0.90954774, 0.        , 0.26923077, 0.73873874, 0.86734694],\n",
       "       [0.91457286, 1.        , 0.53846154, 0.74774775, 0.14285714],\n",
       "       [0.91959799, 0.        , 0.21153846, 0.74774775, 0.8877551 ],\n",
       "       [0.92462312, 0.        , 0.44230769, 0.75675676, 0.3877551 ],\n",
       "       [0.92964824, 1.        , 0.23076923, 0.75675676, 0.97959184],\n",
       "       [0.93467337, 0.        , 0.69230769, 0.77477477, 0.23469388],\n",
       "       [0.93969849, 1.        , 0.19230769, 0.77477477, 0.68367347],\n",
       "       [0.94472362, 0.        , 0.44230769, 0.79279279, 0.16326531],\n",
       "       [0.94974874, 0.        , 0.34615385, 0.79279279, 0.85714286],\n",
       "       [0.95477387, 0.        , 0.30769231, 0.79279279, 0.2244898 ],\n",
       "       [0.95979899, 0.        , 0.26923077, 0.79279279, 0.69387755],\n",
       "       [0.96482412, 1.        , 0.28846154, 0.88288288, 0.07142857],\n",
       "       [0.96984925, 0.        , 0.38461538, 0.88288288, 0.91836735],\n",
       "       [0.97487437, 0.        , 0.55769231, 0.94594595, 0.15306122],\n",
       "       [0.9798995 , 0.        , 0.32692308, 0.94594595, 0.79591837],\n",
       "       [0.98492462, 0.        , 0.51923077, 1.        , 0.2755102 ],\n",
       "       [0.98994975, 1.        , 0.26923077, 1.        , 0.74489796],\n",
       "       [0.99497487, 1.        , 0.26923077, 0.41891892, 0.17346939],\n",
       "       [1.        , 1.        , 0.23076923, 0.41891892, 0.83673469]])"
      ]
     },
     "execution_count": 40,
     "metadata": {},
     "output_type": "execute_result"
    }
   ],
   "source": [
    "sc.fit_transform(rm)"
   ]
  },
  {
   "cell_type": "code",
   "execution_count": 41,
   "id": "6a85dcbc",
   "metadata": {},
   "outputs": [
    {
     "data": {
      "text/html": [
       "<div>\n",
       "<style scoped>\n",
       "    .dataframe tbody tr th:only-of-type {\n",
       "        vertical-align: middle;\n",
       "    }\n",
       "\n",
       "    .dataframe tbody tr th {\n",
       "        vertical-align: top;\n",
       "    }\n",
       "\n",
       "    .dataframe thead th {\n",
       "        text-align: right;\n",
       "    }\n",
       "</style>\n",
       "<table border=\"1\" class=\"dataframe\">\n",
       "  <thead>\n",
       "    <tr style=\"text-align: right;\">\n",
       "      <th></th>\n",
       "      <th>Gender</th>\n",
       "      <th>Age</th>\n",
       "      <th>Annual Income (k$)</th>\n",
       "    </tr>\n",
       "  </thead>\n",
       "  <tbody>\n",
       "    <tr>\n",
       "      <th>0</th>\n",
       "      <td>1.0</td>\n",
       "      <td>0.019231</td>\n",
       "      <td>0.000000</td>\n",
       "    </tr>\n",
       "    <tr>\n",
       "      <th>1</th>\n",
       "      <td>1.0</td>\n",
       "      <td>0.057692</td>\n",
       "      <td>0.000000</td>\n",
       "    </tr>\n",
       "    <tr>\n",
       "      <th>2</th>\n",
       "      <td>0.0</td>\n",
       "      <td>0.038462</td>\n",
       "      <td>0.009009</td>\n",
       "    </tr>\n",
       "    <tr>\n",
       "      <th>3</th>\n",
       "      <td>0.0</td>\n",
       "      <td>0.096154</td>\n",
       "      <td>0.009009</td>\n",
       "    </tr>\n",
       "    <tr>\n",
       "      <th>4</th>\n",
       "      <td>0.0</td>\n",
       "      <td>0.250000</td>\n",
       "      <td>0.018018</td>\n",
       "    </tr>\n",
       "  </tbody>\n",
       "</table>\n",
       "</div>"
      ],
      "text/plain": [
       "   Gender       Age  Annual Income (k$)\n",
       "0     1.0  0.019231            0.000000\n",
       "1     1.0  0.057692            0.000000\n",
       "2     0.0  0.038462            0.009009\n",
       "3     0.0  0.096154            0.009009\n",
       "4     0.0  0.250000            0.018018"
      ]
     },
     "execution_count": 41,
     "metadata": {},
     "output_type": "execute_result"
    }
   ],
   "source": [
    "xsc=pd.DataFrame(sc.fit_transform(rm),columns=rm.columns)\n",
    "xsc=xsc.iloc[:,1:-1]\n",
    "xsc.head()"
   ]
  },
  {
   "cell_type": "markdown",
   "id": "b0858270",
   "metadata": {},
   "source": [
    "# 9.perform any of the clustering algorithms"
   ]
  },
  {
   "cell_type": "code",
   "execution_count": 42,
   "id": "25897b4c",
   "metadata": {},
   "outputs": [],
   "source": [
    "#K-means"
   ]
  },
  {
   "cell_type": "code",
   "execution_count": 43,
   "id": "e29c5aa8",
   "metadata": {},
   "outputs": [],
   "source": [
    "from sklearn import cluster"
   ]
  },
  {
   "cell_type": "code",
   "execution_count": 44,
   "id": "2ab17d47",
   "metadata": {},
   "outputs": [
    {
     "name": "stderr",
     "output_type": "stream",
     "text": [
      "C:\\Users\\Vinoth\\anaconda3\\lib\\site-packages\\sklearn\\cluster\\_kmeans.py:1036: UserWarning: KMeans is known to have a memory leak on Windows with MKL, when there are less chunks than available threads. You can avoid it by setting the environment variable OMP_NUM_THREADS=1.\n",
      "  warnings.warn(\n"
     ]
    }
   ],
   "source": [
    "error =[]\n",
    "for i in range(1,11):\n",
    "    kmeans=cluster.KMeans(n_clusters=i,init='k-means++',random_state=0)\n",
    "    kmeans.fit(rm)\n",
    "    error.append(kmeans.inertia_)"
   ]
  },
  {
   "cell_type": "code",
   "execution_count": 45,
   "id": "c652053c",
   "metadata": {},
   "outputs": [
    {
     "data": {
      "text/plain": [
       "[963713.675,\n",
       " 381436.104860486,\n",
       " 267939.1070836786,\n",
       " 191458.22767094016,\n",
       " 153440.3615817258,\n",
       " 119069.64011047292,\n",
       " 101207.28033910535,\n",
       " 85587.68268953267,\n",
       " 76477.1992151242,\n",
       " 68494.14545083062]"
      ]
     },
     "execution_count": 45,
     "metadata": {},
     "output_type": "execute_result"
    }
   ],
   "source": [
    "error"
   ]
  },
  {
   "cell_type": "code",
   "execution_count": 46,
   "id": "d161a62d",
   "metadata": {},
   "outputs": [
    {
     "data": {
      "image/png": "[encoded data removed]",
      "text/plain": [
       "<Figure size 432x288 with 1 Axes>"
      ]
     },
     "metadata": {
      "needs_background": "light"
     },
     "output_type": "display_data"
    }
   ],
   "source": [
    "import matplotlib.pyplot as plt\n",
    "plt.plot(range(1,11),error)\n",
    "plt.title('Elbow method')\n",
    "plt.xlabel('no of clus')\n",
    "plt.ylabel('error')\n",
    "plt.show()"
   ]
  },
  {
   "cell_type": "code",
   "execution_count": 47,
   "id": "31b73a5a",
   "metadata": {},
   "outputs": [],
   "source": [
    " km_model=cluster.KMeans(n_clusters=4,init='k-means++',random_state=0)"
   ]
  },
  {
   "cell_type": "code",
   "execution_count": 48,
   "id": "7024101a",
   "metadata": {},
   "outputs": [
    {
     "data": {
      "text/plain": [
       "KMeans(n_clusters=4, random_state=0)"
      ]
     },
     "execution_count": 48,
     "metadata": {},
     "output_type": "execute_result"
    }
   ],
   "source": [
    "km_model.fit(rm)"
   ]
  },
  {
   "cell_type": "code",
   "execution_count": 49,
   "id": "90091b94",
   "metadata": {},
   "outputs": [],
   "source": [
    "arr=km_model.predict(rm)"
   ]
  },
  {
   "cell_type": "code",
   "execution_count": 50,
   "id": "40a136c5",
   "metadata": {},
   "outputs": [
    {
     "data": {
      "text/plain": [
       "array([2, 2, 2, 2, 2, 2, 2, 2, 2, 2, 2, 2, 2, 2, 2, 2, 2, 2, 2, 2, 2, 2,\n",
       "       2, 2, 2, 2, 2, 2, 2, 2, 2, 2, 2, 2, 2, 2, 2, 2, 2, 2, 2, 2, 2, 2,\n",
       "       2, 2, 2, 2, 2, 2, 2, 2, 2, 2, 2, 2, 2, 2, 2, 1, 1, 2, 1, 1, 1, 1,\n",
       "       1, 1, 1, 1, 1, 1, 1, 1, 1, 1, 1, 1, 1, 1, 1, 1, 1, 1, 1, 1, 1, 1,\n",
       "       1, 1, 1, 1, 1, 1, 1, 1, 1, 1, 1, 1, 1, 1, 1, 1, 1, 1, 1, 1, 1, 1,\n",
       "       1, 1, 1, 1, 1, 1, 1, 1, 1, 1, 1, 1, 1, 0, 1, 0, 1, 0, 3, 0, 3, 0,\n",
       "       3, 0, 3, 0, 3, 0, 3, 0, 3, 0, 3, 0, 3, 0, 3, 0, 3, 0, 3, 0, 3, 0,\n",
       "       3, 0, 3, 0, 3, 0, 3, 0, 3, 0, 3, 0, 3, 0, 3, 0, 3, 0, 3, 0, 3, 0,\n",
       "       3, 0, 3, 0, 3, 0, 3, 0, 3, 0, 3, 0, 3, 0, 3, 0, 3, 0, 3, 0, 3, 0,\n",
       "       3, 0])"
      ]
     },
     "execution_count": 50,
     "metadata": {},
     "output_type": "execute_result"
    }
   ],
   "source": [
    "arr"
   ]
  },
  {
   "cell_type": "markdown",
   "id": "d66794fd",
   "metadata": {},
   "source": [
    "# 10.Add the cluster data with primary dataset"
   ]
  },
  {
   "cell_type": "code",
   "execution_count": 51,
   "id": "82d43b4e",
   "metadata": {},
   "outputs": [],
   "source": [
    "rm['kclus'] = pd.Series(arr)"
   ]
  },
  {
   "cell_type": "code",
   "execution_count": 52,
   "id": "72d4a0da",
   "metadata": {},
   "outputs": [
    {
     "data": {
      "text/html": [
       "<div>\n",
       "<style scoped>\n",
       "    .dataframe tbody tr th:only-of-type {\n",
       "        vertical-align: middle;\n",
       "    }\n",
       "\n",
       "    .dataframe tbody tr th {\n",
       "        vertical-align: top;\n",
       "    }\n",
       "\n",
       "    .dataframe thead th {\n",
       "        text-align: right;\n",
       "    }\n",
       "</style>\n",
       "<table border=\"1\" class=\"dataframe\">\n",
       "  <thead>\n",
       "    <tr style=\"text-align: right;\">\n",
       "      <th></th>\n",
       "      <th>CustomerID</th>\n",
       "      <th>Gender</th>\n",
       "      <th>Age</th>\n",
       "      <th>Annual Income (k$)</th>\n",
       "      <th>Spending Score (1-100)</th>\n",
       "      <th>kclus</th>\n",
       "    </tr>\n",
       "  </thead>\n",
       "  <tbody>\n",
       "    <tr>\n",
       "      <th>0</th>\n",
       "      <td>1</td>\n",
       "      <td>1</td>\n",
       "      <td>19</td>\n",
       "      <td>15.0</td>\n",
       "      <td>39</td>\n",
       "      <td>2</td>\n",
       "    </tr>\n",
       "    <tr>\n",
       "      <th>1</th>\n",
       "      <td>2</td>\n",
       "      <td>1</td>\n",
       "      <td>21</td>\n",
       "      <td>15.0</td>\n",
       "      <td>81</td>\n",
       "      <td>2</td>\n",
       "    </tr>\n",
       "    <tr>\n",
       "      <th>2</th>\n",
       "      <td>3</td>\n",
       "      <td>0</td>\n",
       "      <td>20</td>\n",
       "      <td>16.0</td>\n",
       "      <td>6</td>\n",
       "      <td>2</td>\n",
       "    </tr>\n",
       "    <tr>\n",
       "      <th>3</th>\n",
       "      <td>4</td>\n",
       "      <td>0</td>\n",
       "      <td>23</td>\n",
       "      <td>16.0</td>\n",
       "      <td>77</td>\n",
       "      <td>2</td>\n",
       "    </tr>\n",
       "    <tr>\n",
       "      <th>4</th>\n",
       "      <td>5</td>\n",
       "      <td>0</td>\n",
       "      <td>31</td>\n",
       "      <td>17.0</td>\n",
       "      <td>40</td>\n",
       "      <td>2</td>\n",
       "    </tr>\n",
       "  </tbody>\n",
       "</table>\n",
       "</div>"
      ],
      "text/plain": [
       "   CustomerID  Gender  Age  Annual Income (k$)  Spending Score (1-100)  kclus\n",
       "0           1       1   19                15.0                      39      2\n",
       "1           2       1   21                15.0                      81      2\n",
       "2           3       0   20                16.0                       6      2\n",
       "3           4       0   23                16.0                      77      2\n",
       "4           5       0   31                17.0                      40      2"
      ]
     },
     "execution_count": 52,
     "metadata": {},
     "output_type": "execute_result"
    }
   ],
   "source": [
    "rm.head()"
   ]
  },
  {
   "cell_type": "markdown",
   "id": "7785f2f7",
   "metadata": {},
   "source": [
    "# 11 .Split dependant and independant columns(x and y split)"
   ]
  },
  {
   "cell_type": "code",
   "execution_count": 53,
   "id": "82979535",
   "metadata": {},
   "outputs": [
    {
     "data": {
      "text/html": [
       "<div>\n",
       "<style scoped>\n",
       "    .dataframe tbody tr th:only-of-type {\n",
       "        vertical-align: middle;\n",
       "    }\n",
       "\n",
       "    .dataframe tbody tr th {\n",
       "        vertical-align: top;\n",
       "    }\n",
       "\n",
       "    .dataframe thead th {\n",
       "        text-align: right;\n",
       "    }\n",
       "</style>\n",
       "<table border=\"1\" class=\"dataframe\">\n",
       "  <thead>\n",
       "    <tr style=\"text-align: right;\">\n",
       "      <th></th>\n",
       "      <th>CustomerID</th>\n",
       "      <th>Gender</th>\n",
       "      <th>Age</th>\n",
       "      <th>Annual Income (k$)</th>\n",
       "      <th>Spending Score (1-100)</th>\n",
       "      <th>kclus</th>\n",
       "    </tr>\n",
       "  </thead>\n",
       "  <tbody>\n",
       "    <tr>\n",
       "      <th>0</th>\n",
       "      <td>1</td>\n",
       "      <td>1</td>\n",
       "      <td>19</td>\n",
       "      <td>15.0</td>\n",
       "      <td>39</td>\n",
       "      <td>2</td>\n",
       "    </tr>\n",
       "    <tr>\n",
       "      <th>1</th>\n",
       "      <td>2</td>\n",
       "      <td>1</td>\n",
       "      <td>21</td>\n",
       "      <td>15.0</td>\n",
       "      <td>81</td>\n",
       "      <td>2</td>\n",
       "    </tr>\n",
       "    <tr>\n",
       "      <th>2</th>\n",
       "      <td>3</td>\n",
       "      <td>0</td>\n",
       "      <td>20</td>\n",
       "      <td>16.0</td>\n",
       "      <td>6</td>\n",
       "      <td>2</td>\n",
       "    </tr>\n",
       "    <tr>\n",
       "      <th>3</th>\n",
       "      <td>4</td>\n",
       "      <td>0</td>\n",
       "      <td>23</td>\n",
       "      <td>16.0</td>\n",
       "      <td>77</td>\n",
       "      <td>2</td>\n",
       "    </tr>\n",
       "    <tr>\n",
       "      <th>4</th>\n",
       "      <td>5</td>\n",
       "      <td>0</td>\n",
       "      <td>31</td>\n",
       "      <td>17.0</td>\n",
       "      <td>40</td>\n",
       "      <td>2</td>\n",
       "    </tr>\n",
       "  </tbody>\n",
       "</table>\n",
       "</div>"
      ],
      "text/plain": [
       "   CustomerID  Gender  Age  Annual Income (k$)  Spending Score (1-100)  kclus\n",
       "0           1       1   19                15.0                      39      2\n",
       "1           2       1   21                15.0                      81      2\n",
       "2           3       0   20                16.0                       6      2\n",
       "3           4       0   23                16.0                      77      2\n",
       "4           5       0   31                17.0                      40      2"
      ]
     },
     "execution_count": 53,
     "metadata": {},
     "output_type": "execute_result"
    }
   ],
   "source": [
    "rm.head()"
   ]
  },
  {
   "cell_type": "code",
   "execution_count": 54,
   "id": "3da39a1a",
   "metadata": {},
   "outputs": [
    {
     "data": {
      "text/html": [
       "<div>\n",
       "<style scoped>\n",
       "    .dataframe tbody tr th:only-of-type {\n",
       "        vertical-align: middle;\n",
       "    }\n",
       "\n",
       "    .dataframe tbody tr th {\n",
       "        vertical-align: top;\n",
       "    }\n",
       "\n",
       "    .dataframe thead th {\n",
       "        text-align: right;\n",
       "    }\n",
       "</style>\n",
       "<table border=\"1\" class=\"dataframe\">\n",
       "  <thead>\n",
       "    <tr style=\"text-align: right;\">\n",
       "      <th></th>\n",
       "      <th>Gender</th>\n",
       "      <th>Age</th>\n",
       "      <th>Annual Income (k$)</th>\n",
       "      <th>Spending Score (1-100)</th>\n",
       "    </tr>\n",
       "  </thead>\n",
       "  <tbody>\n",
       "    <tr>\n",
       "      <th>0</th>\n",
       "      <td>1</td>\n",
       "      <td>19</td>\n",
       "      <td>15.0</td>\n",
       "      <td>39</td>\n",
       "    </tr>\n",
       "    <tr>\n",
       "      <th>1</th>\n",
       "      <td>1</td>\n",
       "      <td>21</td>\n",
       "      <td>15.0</td>\n",
       "      <td>81</td>\n",
       "    </tr>\n",
       "    <tr>\n",
       "      <th>2</th>\n",
       "      <td>0</td>\n",
       "      <td>20</td>\n",
       "      <td>16.0</td>\n",
       "      <td>6</td>\n",
       "    </tr>\n",
       "    <tr>\n",
       "      <th>3</th>\n",
       "      <td>0</td>\n",
       "      <td>23</td>\n",
       "      <td>16.0</td>\n",
       "      <td>77</td>\n",
       "    </tr>\n",
       "    <tr>\n",
       "      <th>4</th>\n",
       "      <td>0</td>\n",
       "      <td>31</td>\n",
       "      <td>17.0</td>\n",
       "      <td>40</td>\n",
       "    </tr>\n",
       "    <tr>\n",
       "      <th>...</th>\n",
       "      <td>...</td>\n",
       "      <td>...</td>\n",
       "      <td>...</td>\n",
       "      <td>...</td>\n",
       "    </tr>\n",
       "    <tr>\n",
       "      <th>195</th>\n",
       "      <td>0</td>\n",
       "      <td>35</td>\n",
       "      <td>120.0</td>\n",
       "      <td>79</td>\n",
       "    </tr>\n",
       "    <tr>\n",
       "      <th>196</th>\n",
       "      <td>0</td>\n",
       "      <td>45</td>\n",
       "      <td>126.0</td>\n",
       "      <td>28</td>\n",
       "    </tr>\n",
       "    <tr>\n",
       "      <th>197</th>\n",
       "      <td>1</td>\n",
       "      <td>32</td>\n",
       "      <td>126.0</td>\n",
       "      <td>74</td>\n",
       "    </tr>\n",
       "    <tr>\n",
       "      <th>198</th>\n",
       "      <td>1</td>\n",
       "      <td>32</td>\n",
       "      <td>61.5</td>\n",
       "      <td>18</td>\n",
       "    </tr>\n",
       "    <tr>\n",
       "      <th>199</th>\n",
       "      <td>1</td>\n",
       "      <td>30</td>\n",
       "      <td>61.5</td>\n",
       "      <td>83</td>\n",
       "    </tr>\n",
       "  </tbody>\n",
       "</table>\n",
       "<p>200 rows × 4 columns</p>\n",
       "</div>"
      ],
      "text/plain": [
       "     Gender  Age  Annual Income (k$)  Spending Score (1-100)\n",
       "0         1   19                15.0                      39\n",
       "1         1   21                15.0                      81\n",
       "2         0   20                16.0                       6\n",
       "3         0   23                16.0                      77\n",
       "4         0   31                17.0                      40\n",
       "..      ...  ...                 ...                     ...\n",
       "195       0   35               120.0                      79\n",
       "196       0   45               126.0                      28\n",
       "197       1   32               126.0                      74\n",
       "198       1   32                61.5                      18\n",
       "199       1   30                61.5                      83\n",
       "\n",
       "[200 rows x 4 columns]"
      ]
     },
     "execution_count": 54,
     "metadata": {},
     "output_type": "execute_result"
    }
   ],
   "source": [
    "X= rm.iloc[:,1:-1]\n",
    "X"
   ]
  },
  {
   "cell_type": "code",
   "execution_count": 55,
   "id": "7a9cb82b",
   "metadata": {},
   "outputs": [
    {
     "data": {
      "text/plain": [
       "0      2\n",
       "1      2\n",
       "2      2\n",
       "3      2\n",
       "4      2\n",
       "      ..\n",
       "195    0\n",
       "196    3\n",
       "197    0\n",
       "198    3\n",
       "199    0\n",
       "Name: kclus, Length: 200, dtype: int32"
      ]
     },
     "execution_count": 55,
     "metadata": {},
     "output_type": "execute_result"
    }
   ],
   "source": [
    "y=rm.kclus\n",
    "y"
   ]
  },
  {
   "cell_type": "markdown",
   "id": "d2911aba",
   "metadata": {},
   "source": [
    "# 12.Split the data into training and testing"
   ]
  },
  {
   "cell_type": "code",
   "execution_count": 56,
   "id": "2c1ab73d",
   "metadata": {},
   "outputs": [],
   "source": [
    "from sklearn.model_selection import train_test_split"
   ]
  },
  {
   "cell_type": "code",
   "execution_count": 57,
   "id": "a6612f1b",
   "metadata": {},
   "outputs": [],
   "source": [
    "X_train,X_test,y_train,y_test=train_test_split(xsc,y,test_size=0.2,random_state=0)"
   ]
  },
  {
   "cell_type": "code",
   "execution_count": 58,
   "id": "b21ba5de",
   "metadata": {},
   "outputs": [
    {
     "data": {
      "text/html": [
       "<div>\n",
       "<style scoped>\n",
       "    .dataframe tbody tr th:only-of-type {\n",
       "        vertical-align: middle;\n",
       "    }\n",
       "\n",
       "    .dataframe tbody tr th {\n",
       "        vertical-align: top;\n",
       "    }\n",
       "\n",
       "    .dataframe thead th {\n",
       "        text-align: right;\n",
       "    }\n",
       "</style>\n",
       "<table border=\"1\" class=\"dataframe\">\n",
       "  <thead>\n",
       "    <tr style=\"text-align: right;\">\n",
       "      <th></th>\n",
       "      <th>Gender</th>\n",
       "      <th>Age</th>\n",
       "      <th>Annual Income (k$)</th>\n",
       "    </tr>\n",
       "  </thead>\n",
       "  <tbody>\n",
       "    <tr>\n",
       "      <th>134</th>\n",
       "      <td>1.0</td>\n",
       "      <td>0.038462</td>\n",
       "      <td>0.522523</td>\n",
       "    </tr>\n",
       "    <tr>\n",
       "      <th>66</th>\n",
       "      <td>0.0</td>\n",
       "      <td>0.480769</td>\n",
       "      <td>0.297297</td>\n",
       "    </tr>\n",
       "    <tr>\n",
       "      <th>26</th>\n",
       "      <td>0.0</td>\n",
       "      <td>0.519231</td>\n",
       "      <td>0.117117</td>\n",
       "    </tr>\n",
       "    <tr>\n",
       "      <th>113</th>\n",
       "      <td>1.0</td>\n",
       "      <td>0.019231</td>\n",
       "      <td>0.441441</td>\n",
       "    </tr>\n",
       "    <tr>\n",
       "      <th>168</th>\n",
       "      <td>0.0</td>\n",
       "      <td>0.346154</td>\n",
       "      <td>0.648649</td>\n",
       "    </tr>\n",
       "    <tr>\n",
       "      <th>...</th>\n",
       "      <td>...</td>\n",
       "      <td>...</td>\n",
       "      <td>...</td>\n",
       "    </tr>\n",
       "    <tr>\n",
       "      <th>67</th>\n",
       "      <td>0.0</td>\n",
       "      <td>0.961538</td>\n",
       "      <td>0.297297</td>\n",
       "    </tr>\n",
       "    <tr>\n",
       "      <th>192</th>\n",
       "      <td>1.0</td>\n",
       "      <td>0.288462</td>\n",
       "      <td>0.882883</td>\n",
       "    </tr>\n",
       "    <tr>\n",
       "      <th>117</th>\n",
       "      <td>0.0</td>\n",
       "      <td>0.596154</td>\n",
       "      <td>0.450450</td>\n",
       "    </tr>\n",
       "    <tr>\n",
       "      <th>47</th>\n",
       "      <td>0.0</td>\n",
       "      <td>0.173077</td>\n",
       "      <td>0.225225</td>\n",
       "    </tr>\n",
       "    <tr>\n",
       "      <th>172</th>\n",
       "      <td>1.0</td>\n",
       "      <td>0.346154</td>\n",
       "      <td>0.648649</td>\n",
       "    </tr>\n",
       "  </tbody>\n",
       "</table>\n",
       "<p>160 rows × 3 columns</p>\n",
       "</div>"
      ],
      "text/plain": [
       "     Gender       Age  Annual Income (k$)\n",
       "134     1.0  0.038462            0.522523\n",
       "66      0.0  0.480769            0.297297\n",
       "26      0.0  0.519231            0.117117\n",
       "113     1.0  0.019231            0.441441\n",
       "168     0.0  0.346154            0.648649\n",
       "..      ...       ...                 ...\n",
       "67      0.0  0.961538            0.297297\n",
       "192     1.0  0.288462            0.882883\n",
       "117     0.0  0.596154            0.450450\n",
       "47      0.0  0.173077            0.225225\n",
       "172     1.0  0.346154            0.648649\n",
       "\n",
       "[160 rows x 3 columns]"
      ]
     },
     "execution_count": 58,
     "metadata": {},
     "output_type": "execute_result"
    }
   ],
   "source": [
    "X_train"
   ]
  },
  {
   "cell_type": "code",
   "execution_count": 59,
   "id": "67d627b3",
   "metadata": {},
   "outputs": [
    {
     "data": {
      "text/html": [
       "<div>\n",
       "<style scoped>\n",
       "    .dataframe tbody tr th:only-of-type {\n",
       "        vertical-align: middle;\n",
       "    }\n",
       "\n",
       "    .dataframe tbody tr th {\n",
       "        vertical-align: top;\n",
       "    }\n",
       "\n",
       "    .dataframe thead th {\n",
       "        text-align: right;\n",
       "    }\n",
       "</style>\n",
       "<table border=\"1\" class=\"dataframe\">\n",
       "  <thead>\n",
       "    <tr style=\"text-align: right;\">\n",
       "      <th></th>\n",
       "      <th>Gender</th>\n",
       "      <th>Age</th>\n",
       "      <th>Annual Income (k$)</th>\n",
       "    </tr>\n",
       "  </thead>\n",
       "  <tbody>\n",
       "    <tr>\n",
       "      <th>18</th>\n",
       "      <td>1.0</td>\n",
       "      <td>0.653846</td>\n",
       "      <td>0.072072</td>\n",
       "    </tr>\n",
       "    <tr>\n",
       "      <th>170</th>\n",
       "      <td>1.0</td>\n",
       "      <td>0.423077</td>\n",
       "      <td>0.648649</td>\n",
       "    </tr>\n",
       "    <tr>\n",
       "      <th>107</th>\n",
       "      <td>1.0</td>\n",
       "      <td>0.692308</td>\n",
       "      <td>0.432432</td>\n",
       "    </tr>\n",
       "    <tr>\n",
       "      <th>98</th>\n",
       "      <td>1.0</td>\n",
       "      <td>0.576923</td>\n",
       "      <td>0.414414</td>\n",
       "    </tr>\n",
       "    <tr>\n",
       "      <th>177</th>\n",
       "      <td>1.0</td>\n",
       "      <td>0.173077</td>\n",
       "      <td>0.657658</td>\n",
       "    </tr>\n",
       "    <tr>\n",
       "      <th>182</th>\n",
       "      <td>1.0</td>\n",
       "      <td>0.538462</td>\n",
       "      <td>0.747748</td>\n",
       "    </tr>\n",
       "    <tr>\n",
       "      <th>5</th>\n",
       "      <td>0.0</td>\n",
       "      <td>0.076923</td>\n",
       "      <td>0.018018</td>\n",
       "    </tr>\n",
       "    <tr>\n",
       "      <th>146</th>\n",
       "      <td>1.0</td>\n",
       "      <td>0.576923</td>\n",
       "      <td>0.558559</td>\n",
       "    </tr>\n",
       "    <tr>\n",
       "      <th>12</th>\n",
       "      <td>0.0</td>\n",
       "      <td>0.769231</td>\n",
       "      <td>0.045045</td>\n",
       "    </tr>\n",
       "    <tr>\n",
       "      <th>152</th>\n",
       "      <td>0.0</td>\n",
       "      <td>0.500000</td>\n",
       "      <td>0.567568</td>\n",
       "    </tr>\n",
       "    <tr>\n",
       "      <th>61</th>\n",
       "      <td>1.0</td>\n",
       "      <td>0.019231</td>\n",
       "      <td>0.279279</td>\n",
       "    </tr>\n",
       "    <tr>\n",
       "      <th>125</th>\n",
       "      <td>0.0</td>\n",
       "      <td>0.250000</td>\n",
       "      <td>0.495495</td>\n",
       "    </tr>\n",
       "    <tr>\n",
       "      <th>180</th>\n",
       "      <td>0.0</td>\n",
       "      <td>0.365385</td>\n",
       "      <td>0.738739</td>\n",
       "    </tr>\n",
       "    <tr>\n",
       "      <th>154</th>\n",
       "      <td>0.0</td>\n",
       "      <td>0.557692</td>\n",
       "      <td>0.567568</td>\n",
       "    </tr>\n",
       "    <tr>\n",
       "      <th>80</th>\n",
       "      <td>1.0</td>\n",
       "      <td>0.750000</td>\n",
       "      <td>0.351351</td>\n",
       "    </tr>\n",
       "    <tr>\n",
       "      <th>7</th>\n",
       "      <td>0.0</td>\n",
       "      <td>0.096154</td>\n",
       "      <td>0.027027</td>\n",
       "    </tr>\n",
       "    <tr>\n",
       "      <th>33</th>\n",
       "      <td>1.0</td>\n",
       "      <td>0.000000</td>\n",
       "      <td>0.162162</td>\n",
       "    </tr>\n",
       "    <tr>\n",
       "      <th>130</th>\n",
       "      <td>1.0</td>\n",
       "      <td>0.557692</td>\n",
       "      <td>0.504505</td>\n",
       "    </tr>\n",
       "    <tr>\n",
       "      <th>37</th>\n",
       "      <td>0.0</td>\n",
       "      <td>0.230769</td>\n",
       "      <td>0.171171</td>\n",
       "    </tr>\n",
       "    <tr>\n",
       "      <th>74</th>\n",
       "      <td>1.0</td>\n",
       "      <td>0.788462</td>\n",
       "      <td>0.351351</td>\n",
       "    </tr>\n",
       "    <tr>\n",
       "      <th>183</th>\n",
       "      <td>0.0</td>\n",
       "      <td>0.211538</td>\n",
       "      <td>0.747748</td>\n",
       "    </tr>\n",
       "    <tr>\n",
       "      <th>145</th>\n",
       "      <td>1.0</td>\n",
       "      <td>0.192308</td>\n",
       "      <td>0.558559</td>\n",
       "    </tr>\n",
       "    <tr>\n",
       "      <th>45</th>\n",
       "      <td>0.0</td>\n",
       "      <td>0.115385</td>\n",
       "      <td>0.216216</td>\n",
       "    </tr>\n",
       "    <tr>\n",
       "      <th>159</th>\n",
       "      <td>0.0</td>\n",
       "      <td>0.230769</td>\n",
       "      <td>0.567568</td>\n",
       "    </tr>\n",
       "    <tr>\n",
       "      <th>60</th>\n",
       "      <td>1.0</td>\n",
       "      <td>1.000000</td>\n",
       "      <td>0.279279</td>\n",
       "    </tr>\n",
       "    <tr>\n",
       "      <th>123</th>\n",
       "      <td>1.0</td>\n",
       "      <td>0.403846</td>\n",
       "      <td>0.486486</td>\n",
       "    </tr>\n",
       "    <tr>\n",
       "      <th>179</th>\n",
       "      <td>1.0</td>\n",
       "      <td>0.326923</td>\n",
       "      <td>0.702703</td>\n",
       "    </tr>\n",
       "    <tr>\n",
       "      <th>185</th>\n",
       "      <td>1.0</td>\n",
       "      <td>0.230769</td>\n",
       "      <td>0.756757</td>\n",
       "    </tr>\n",
       "    <tr>\n",
       "      <th>122</th>\n",
       "      <td>0.0</td>\n",
       "      <td>0.423077</td>\n",
       "      <td>0.486486</td>\n",
       "    </tr>\n",
       "    <tr>\n",
       "      <th>44</th>\n",
       "      <td>0.0</td>\n",
       "      <td>0.596154</td>\n",
       "      <td>0.216216</td>\n",
       "    </tr>\n",
       "    <tr>\n",
       "      <th>16</th>\n",
       "      <td>0.0</td>\n",
       "      <td>0.326923</td>\n",
       "      <td>0.054054</td>\n",
       "    </tr>\n",
       "    <tr>\n",
       "      <th>55</th>\n",
       "      <td>1.0</td>\n",
       "      <td>0.557692</td>\n",
       "      <td>0.252252</td>\n",
       "    </tr>\n",
       "    <tr>\n",
       "      <th>150</th>\n",
       "      <td>1.0</td>\n",
       "      <td>0.480769</td>\n",
       "      <td>0.567568</td>\n",
       "    </tr>\n",
       "    <tr>\n",
       "      <th>111</th>\n",
       "      <td>0.0</td>\n",
       "      <td>0.019231</td>\n",
       "      <td>0.432432</td>\n",
       "    </tr>\n",
       "    <tr>\n",
       "      <th>22</th>\n",
       "      <td>0.0</td>\n",
       "      <td>0.538462</td>\n",
       "      <td>0.090090</td>\n",
       "    </tr>\n",
       "    <tr>\n",
       "      <th>189</th>\n",
       "      <td>0.0</td>\n",
       "      <td>0.346154</td>\n",
       "      <td>0.792793</td>\n",
       "    </tr>\n",
       "    <tr>\n",
       "      <th>129</th>\n",
       "      <td>1.0</td>\n",
       "      <td>0.384615</td>\n",
       "      <td>0.504505</td>\n",
       "    </tr>\n",
       "    <tr>\n",
       "      <th>4</th>\n",
       "      <td>0.0</td>\n",
       "      <td>0.250000</td>\n",
       "      <td>0.018018</td>\n",
       "    </tr>\n",
       "    <tr>\n",
       "      <th>83</th>\n",
       "      <td>0.0</td>\n",
       "      <td>0.538462</td>\n",
       "      <td>0.351351</td>\n",
       "    </tr>\n",
       "    <tr>\n",
       "      <th>106</th>\n",
       "      <td>0.0</td>\n",
       "      <td>0.923077</td>\n",
       "      <td>0.432432</td>\n",
       "    </tr>\n",
       "  </tbody>\n",
       "</table>\n",
       "</div>"
      ],
      "text/plain": [
       "     Gender       Age  Annual Income (k$)\n",
       "18      1.0  0.653846            0.072072\n",
       "170     1.0  0.423077            0.648649\n",
       "107     1.0  0.692308            0.432432\n",
       "98      1.0  0.576923            0.414414\n",
       "177     1.0  0.173077            0.657658\n",
       "182     1.0  0.538462            0.747748\n",
       "5       0.0  0.076923            0.018018\n",
       "146     1.0  0.576923            0.558559\n",
       "12      0.0  0.769231            0.045045\n",
       "152     0.0  0.500000            0.567568\n",
       "61      1.0  0.019231            0.279279\n",
       "125     0.0  0.250000            0.495495\n",
       "180     0.0  0.365385            0.738739\n",
       "154     0.0  0.557692            0.567568\n",
       "80      1.0  0.750000            0.351351\n",
       "7       0.0  0.096154            0.027027\n",
       "33      1.0  0.000000            0.162162\n",
       "130     1.0  0.557692            0.504505\n",
       "37      0.0  0.230769            0.171171\n",
       "74      1.0  0.788462            0.351351\n",
       "183     0.0  0.211538            0.747748\n",
       "145     1.0  0.192308            0.558559\n",
       "45      0.0  0.115385            0.216216\n",
       "159     0.0  0.230769            0.567568\n",
       "60      1.0  1.000000            0.279279\n",
       "123     1.0  0.403846            0.486486\n",
       "179     1.0  0.326923            0.702703\n",
       "185     1.0  0.230769            0.756757\n",
       "122     0.0  0.423077            0.486486\n",
       "44      0.0  0.596154            0.216216\n",
       "16      0.0  0.326923            0.054054\n",
       "55      1.0  0.557692            0.252252\n",
       "150     1.0  0.480769            0.567568\n",
       "111     0.0  0.019231            0.432432\n",
       "22      0.0  0.538462            0.090090\n",
       "189     0.0  0.346154            0.792793\n",
       "129     1.0  0.384615            0.504505\n",
       "4       0.0  0.250000            0.018018\n",
       "83      0.0  0.538462            0.351351\n",
       "106     0.0  0.923077            0.432432"
      ]
     },
     "execution_count": 59,
     "metadata": {},
     "output_type": "execute_result"
    }
   ],
   "source": [
    "X_test"
   ]
  },
  {
   "cell_type": "code",
   "execution_count": 60,
   "id": "20b2c8f6",
   "metadata": {},
   "outputs": [
    {
     "data": {
      "text/plain": [
       "134    3\n",
       "66     1\n",
       "26     2\n",
       "113    1\n",
       "168    3\n",
       "      ..\n",
       "67     1\n",
       "192    3\n",
       "117    1\n",
       "47     2\n",
       "172    3\n",
       "Name: kclus, Length: 160, dtype: int32"
      ]
     },
     "execution_count": 60,
     "metadata": {},
     "output_type": "execute_result"
    }
   ],
   "source": [
    "y_train"
   ]
  },
  {
   "cell_type": "code",
   "execution_count": 61,
   "id": "69765379",
   "metadata": {},
   "outputs": [
    {
     "data": {
      "text/plain": [
       "18     2\n",
       "170    3\n",
       "107    1\n",
       "98     1\n",
       "177    0\n",
       "182    3\n",
       "5      2\n",
       "146    3\n",
       "12     2\n",
       "152    3\n",
       "61     2\n",
       "125    0\n",
       "180    3\n",
       "154    3\n",
       "80     1\n",
       "7      2\n",
       "33     2\n",
       "130    3\n",
       "37     2\n",
       "74     1\n",
       "183    0\n",
       "145    0\n",
       "45     2\n",
       "159    0\n",
       "60     1\n",
       "123    0\n",
       "179    0\n",
       "185    0\n",
       "122    1\n",
       "44     2\n",
       "16     2\n",
       "55     2\n",
       "150    3\n",
       "111    1\n",
       "22     2\n",
       "189    0\n",
       "129    0\n",
       "4      2\n",
       "83     1\n",
       "106    1\n",
       "Name: kclus, dtype: int32"
      ]
     },
     "execution_count": 61,
     "metadata": {},
     "output_type": "execute_result"
    }
   ],
   "source": [
    "y_test"
   ]
  },
  {
   "cell_type": "markdown",
   "id": "eb4f59fb",
   "metadata": {},
   "source": [
    "# 13.Buid the model"
   ]
  },
  {
   "cell_type": "code",
   "execution_count": 62,
   "id": "7a56ed57",
   "metadata": {},
   "outputs": [],
   "source": [
    "from sklearn.linear_model import LinearRegression \n",
    "model=LinearRegression()"
   ]
  },
  {
   "cell_type": "markdown",
   "id": "5e4377d9",
   "metadata": {},
   "source": [
    "# 14.Train the model"
   ]
  },
  {
   "cell_type": "code",
   "execution_count": 63,
   "id": "e124a971",
   "metadata": {},
   "outputs": [
    {
     "data": {
      "text/plain": [
       "LinearRegression()"
      ]
     },
     "execution_count": 63,
     "metadata": {},
     "output_type": "execute_result"
    }
   ],
   "source": [
    "model.fit(X_train,y_train)"
   ]
  },
  {
   "cell_type": "markdown",
   "id": "5af8543d",
   "metadata": {},
   "source": [
    "# 15.Test the model"
   ]
  },
  {
   "cell_type": "code",
   "execution_count": 64,
   "id": "ccd18e7a",
   "metadata": {},
   "outputs": [
    {
     "data": {
      "text/plain": [
       "array([1.79416114, 1.35168656, 1.56715849, 1.54773921, 1.27795373,\n",
       "       1.31768342, 1.59638198, 1.45276603, 1.76632005, 1.34903011,\n",
       "       1.4855371 , 1.3287197 , 1.19974338, 1.36467557, 1.63622637,\n",
       "       1.59566131, 1.55748766, 1.48316582, 1.53719421, 1.64665667,\n",
       "       1.15208632, 1.34846295, 1.47622416, 1.27601795, 1.75150996,\n",
       "       1.45331624, 1.28999585, 1.22830513, 1.38159191, 1.60660301,\n",
       "       1.64043569, 1.64936889, 1.42075444, 1.30768862, 1.67405908,\n",
       "       1.15891328, 1.43622943, 1.64331837, 1.50192019, 1.55280086])"
      ]
     },
     "execution_count": 64,
     "metadata": {},
     "output_type": "execute_result"
    }
   ],
   "source": [
    "pred=model.predict(X_test)\n",
    "pred"
   ]
  },
  {
   "cell_type": "code",
   "execution_count": 65,
   "id": "c33623e1",
   "metadata": {},
   "outputs": [
    {
     "name": "stdout",
     "output_type": "stream",
     "text": [
      "[1.79416114 1.35168656 1.56715849 1.54773921 1.27795373 1.31768342\n",
      " 1.59638198 1.45276603 1.76632005 1.34903011 1.4855371  1.3287197\n",
      " 1.19974338 1.36467557 1.63622637 1.59566131 1.55748766 1.48316582\n",
      " 1.53719421 1.64665667 1.15208632 1.34846295 1.47622416 1.27601795\n",
      " 1.75150996 1.45331624 1.28999585 1.22830513 1.38159191 1.60660301\n",
      " 1.64043569 1.64936889 1.42075444 1.30768862 1.67405908 1.15891328\n",
      " 1.43622943 1.64331837 1.50192019 1.55280086]\n"
     ]
    }
   ],
   "source": [
    "print(pred)"
   ]
  },
  {
   "cell_type": "code",
   "execution_count": 66,
   "id": "4f16269a",
   "metadata": {},
   "outputs": [
    {
     "data": {
      "text/plain": [
       "(40,)"
      ]
     },
     "execution_count": 66,
     "metadata": {},
     "output_type": "execute_result"
    }
   ],
   "source": [
    "pred.shape"
   ]
  },
  {
   "cell_type": "markdown",
   "id": "ef7bd194",
   "metadata": {},
   "source": [
    "# 16.Measure the performance using metrics"
   ]
  },
  {
   "cell_type": "code",
   "execution_count": 67,
   "id": "3f6f8577",
   "metadata": {},
   "outputs": [
    {
     "data": {
      "text/html": [
       "<div>\n",
       "<style scoped>\n",
       "    .dataframe tbody tr th:only-of-type {\n",
       "        vertical-align: middle;\n",
       "    }\n",
       "\n",
       "    .dataframe tbody tr th {\n",
       "        vertical-align: top;\n",
       "    }\n",
       "\n",
       "    .dataframe thead th {\n",
       "        text-align: right;\n",
       "    }\n",
       "</style>\n",
       "<table border=\"1\" class=\"dataframe\">\n",
       "  <thead>\n",
       "    <tr style=\"text-align: right;\">\n",
       "      <th></th>\n",
       "      <th>Actual</th>\n",
       "      <th>Predicted</th>\n",
       "    </tr>\n",
       "  </thead>\n",
       "  <tbody>\n",
       "    <tr>\n",
       "      <th>18</th>\n",
       "      <td>2</td>\n",
       "      <td>1.794161</td>\n",
       "    </tr>\n",
       "    <tr>\n",
       "      <th>170</th>\n",
       "      <td>3</td>\n",
       "      <td>1.351687</td>\n",
       "    </tr>\n",
       "    <tr>\n",
       "      <th>107</th>\n",
       "      <td>1</td>\n",
       "      <td>1.567158</td>\n",
       "    </tr>\n",
       "    <tr>\n",
       "      <th>98</th>\n",
       "      <td>1</td>\n",
       "      <td>1.547739</td>\n",
       "    </tr>\n",
       "    <tr>\n",
       "      <th>177</th>\n",
       "      <td>0</td>\n",
       "      <td>1.277954</td>\n",
       "    </tr>\n",
       "  </tbody>\n",
       "</table>\n",
       "</div>"
      ],
      "text/plain": [
       "     Actual  Predicted\n",
       "18        2   1.794161\n",
       "170       3   1.351687\n",
       "107       1   1.567158\n",
       "98        1   1.547739\n",
       "177       0   1.277954"
      ]
     },
     "execution_count": 67,
     "metadata": {},
     "output_type": "execute_result"
    }
   ],
   "source": [
    "cmp=pd.DataFrame({'Actual':y_test,'Predicted':pred})\n",
    "cmp.head()"
   ]
  },
  {
   "cell_type": "code",
   "execution_count": 68,
   "id": "b7e37edb",
   "metadata": {},
   "outputs": [],
   "source": [
    "from sklearn import metrics"
   ]
  },
  {
   "cell_type": "code",
   "execution_count": 69,
   "id": "8c69710c",
   "metadata": {},
   "outputs": [
    {
     "name": "stdout",
     "output_type": "stream",
     "text": [
      "0.06340097482778861\n"
     ]
    }
   ],
   "source": [
    "print(metrics.r2_score(y_test,pred))"
   ]
  },
  {
   "cell_type": "code",
   "execution_count": 70,
   "id": "67e701ec",
   "metadata": {},
   "outputs": [
    {
     "data": {
      "text/plain": [
       "1.0765035045573104"
      ]
     },
     "execution_count": 70,
     "metadata": {},
     "output_type": "execute_result"
    }
   ],
   "source": [
    "mse1=metrics.mean_squared_error(y_test,pred)\n",
    "mse1"
   ]
  },
  {
   "cell_type": "code",
   "execution_count": 88,
   "id": "cfb88f6f",
   "metadata": {},
   "outputs": [
    {
     "data": {
      "text/plain": [
       "1.0375468686075393"
      ]
     },
     "execution_count": 88,
     "metadata": {},
     "output_type": "execute_result"
    }
   ],
   "source": [
    "import math\n",
    "rmse1=math.sqrt(mse1)\n",
    "rmse1"
   ]
  }
 ],
 "metadata": {
  "kernelspec": {
   "display_name": "Python 3 (ipykernel)",
   "language": "python",
   "name": "python3"
  },
  "language_info": {
   "codemirror_mode": {
    "name": "ipython",
    "version": 3
   },
   "file_extension": ".py",
   "mimetype": "text/x-python",
   "name": "python",
   "nbconvert_exporter": "python",
   "pygments_lexer": "ipython3",
   "version": "3.9.12"
  }
 },
 "nbformat": 4,
 "nbformat_minor": 5
}
